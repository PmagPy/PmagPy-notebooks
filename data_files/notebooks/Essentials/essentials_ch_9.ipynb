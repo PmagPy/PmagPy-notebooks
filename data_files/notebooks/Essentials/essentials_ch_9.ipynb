{
 "cells": [
  {
   "cell_type": "markdown",
   "metadata": {},
   "source": [
    "# Jupyter Notebook  problems in the Essentials of Paleomagnetism Textbook by L. Tauxe"
   ]
  },
  {
   "cell_type": "markdown",
   "metadata": {},
   "source": [
    "## Problems in Chapter 9"
   ]
  },
  {
   "cell_type": "markdown",
   "metadata": {},
   "source": [
    "## Problem 1  "
   ]
  },
  {
   "cell_type": "markdown",
   "metadata": {},
   "source": [
    "We must read in the data from the datafile, Chapter\\_9/zijd\\_example.dat, convert the vectors to x,y,z and plot them as a Zijderveld diagram.  \n",
    "First let's read in the data as pandas DataFrame."
   ]
  },
  {
   "cell_type": "code",
   "execution_count": 1,
   "metadata": {},
   "outputs": [
    {
     "name": "stdout",
     "output_type": "stream",
     "text": [
      "  Specimen  Treat       Int    Dec   Inc\n",
      "0    ex9-1     20  0.004199  186.1  -2.3\n",
      "1    ex9-1    150  0.004834  188.6 -14.8\n",
      "2    ex9-1    250  0.005453  189.8 -23.4\n",
      "3    ex9-1    350  0.005978  191.1 -27.1\n",
      "4    ex9-1    450  0.006400  192.1 -30.8\n"
     ]
    }
   ],
   "source": [
    "import pandas as pd\n",
    "# read in the data into a pandas frame with the first line as a header\n",
    "data = pd.read_csv('Chapter_9/zijd_example.csv',header=0)\n",
    "print (data.head())"
   ]
  },
  {
   "cell_type": "markdown",
   "metadata": {},
   "source": [
    "Re-use our old code dir2cart from Chapter 2.  "
   ]
  },
  {
   "cell_type": "code",
   "execution_count": 2,
   "metadata": {},
   "outputs": [],
   "source": [
    "import numpy as np\n",
    "def dir2cart(data):\n",
    "    \"\"\" Converts data array with [Declination, Inclination, Intensity] \n",
    "        to cartesian coordinates, X=North, Y=East, Z=Down\n",
    "        Returns array with [X,Y,Z]\n",
    "    \"\"\"\n",
    "    # convert degrees to radians for declination and inclination\n",
    "    decs,incs,ints=np.radians(data[0]),np.radians(data[1]),data[2]\n",
    "    X=ints*np.cos(decs)*np.cos(incs)\n",
    "    Y=ints*np.sin(decs)*np.cos(incs)\n",
    "    Z=ints*np.sin(incs)\n",
    "    cart=np.array([X,Y,Z]).transpose()\n",
    "    return cart"
   ]
  },
  {
   "cell_type": "markdown",
   "metadata": {},
   "source": [
    "Now we plot X (N) versus -Y (W) as solid red symbols and X versus -Z (Up) as open squares. Zijderveld diagrams have equal axis calibrations, so we also need to make sure that happens... "
   ]
  },
  {
   "cell_type": "code",
   "execution_count": 3,
   "metadata": {},
   "outputs": [
    {
     "data": {
      "image/png": "[encoded data removed]",
      "text/plain": [
       "<matplotlib.figure.Figure at 0x11159c748>"
      ]
     },
     "metadata": {},
     "output_type": "display_data"
    }
   ],
   "source": [
    "import matplotlib.pyplot as plt\n",
    "%matplotlib inline\n",
    "# send the vectors to dir2cart\n",
    "cart = dir2cart([data['Dec'],data['Inc'],data['Int']]).transpose()\n",
    "# plot the cartesian coordinates\n",
    "plt.plot(cart[0],-cart[1],'ro',cart[0],-cart[1],'r-')\n",
    "plt.plot(cart[0],-cart[2],'ws',cart[0],-cart[2],'b-',markeredgecolor='b')\n",
    "plt.xlabel('X')\n",
    "plt.ylabel('-Y,-Z')\n",
    "plt.axis('equal');"
   ]
  },
  {
   "cell_type": "markdown",
   "metadata": {},
   "source": [
    "## Problem 1b"
   ]
  },
  {
   "cell_type": "markdown",
   "metadata": {},
   "source": [
    "First let's find out about ipmag.zeq ..... "
   ]
  },
  {
   "cell_type": "code",
   "execution_count": 1,
   "metadata": {},
   "outputs": [],
   "source": [
    "import pmagpy.ipmag as ipmag"
   ]
  },
  {
   "cell_type": "code",
   "execution_count": 2,
   "metadata": {},
   "outputs": [
    {
     "name": "stdout",
     "output_type": "stream",
     "text": [
      "Help on function zeq in module pmagpy.ipmag:\n",
      "\n",
      "zeq(path_to_file='.', file='', data='', units='U', calculation_type='DE-BFL', save=False, save_folder='.', fmt='svg', begin_pca='', end_pca='', angle=0)\n",
      "    NAME\n",
      "       zeq.py\n",
      "    \n",
      "    DESCRIPTION\n",
      "       plots demagnetization data for a single specimen:\n",
      "          - The solid (open) symbols in the Zijderveld diagram are X,Y (X,Z) pairs.  The demagnetization diagram plots the\n",
      "          fractional remanence remaining after each step. The green line is the fraction of the total remaence removed\n",
      "          between each step.  If the principle direction is desired, specify begin_pca and end_pca steps as bounds for calculation.\n",
      "    \n",
      "          -The equal area projection has the X direction (usually North in geographic coordinates)\n",
      "          to the top.  The red line is the X axis of the Zijderveld diagram.  Solid symbols are lower hemisphere.\n",
      "    \n",
      "          - red dots and blue line is the remanence remaining after each step.  The green line is the partial TRM removed in each interval\n",
      "    \n",
      "    INPUT FORMAT\n",
      "       reads from  file_name or takes a  Pandas DataFrame data with specimen treatment intensity declination inclination   as columns\n",
      "    \n",
      "    Keywords:\n",
      "        file= FILE   a space or tab delimited file with\n",
      "            specimen  treatment  declination inclination intensity\n",
      "        units= [mT,C] specify units of mT OR C, default is unscaled\n",
      "        save=[True,False]  save figure and quit, default is False\n",
      "        fmt [svg,jpg,png,pdf] set figure format [default is svg]\n",
      "        begin_pca [step number] treatment step for beginning of PCA calculation, default\n",
      "        end_pca [step number] treatment step for end of PCA calculation, last step is default\n",
      "        calculation_type [DE-BFL,DE-BFP,DE-FM] Calculation Type: best-fit line,  plane or fisher mean; line is default\n",
      "        angle=[0-360]: angle to subtract from declination to rotate in horizontal plane, default is 0\n",
      "\n"
     ]
    }
   ],
   "source": [
    "help(ipmag.zeq)"
   ]
  },
  {
   "cell_type": "markdown",
   "metadata": {},
   "source": [
    "Ahhhh..  so I just set the path, file, units, save and format flags (if desired): \n"
   ]
  },
  {
   "cell_type": "code",
   "execution_count": 3,
   "metadata": {},
   "outputs": [
    {
     "name": "stdout",
     "output_type": "stream",
     "text": [
      "ex9-1\n",
      "step treat  intensity  dec    inc\n",
      "0     20.0 4.199e-03   186.1    -2.3 \n"
     ]
    },
    {
     "data": {
      "image/png": "[encoded data removed]",
      "text/plain": [
       "<matplotlib.figure.Figure at 0x10e13ce10>"
      ]
     },
     "metadata": {},
     "output_type": "display_data"
    },
    {
     "data": {
      "image/png": "[encoded data removed]",
      "text/plain": [
       "<matplotlib.figure.Figure at 0x113a9dd68>"
      ]
     },
     "metadata": {},
     "output_type": "display_data"
    },
    {
     "data": {
      "image/png": "[encoded data removed]",
      "text/plain": [
       "<matplotlib.figure.Figure at 0x1168073c8>"
      ]
     },
     "metadata": {},
     "output_type": "display_data"
    },
    {
     "data": {
      "text/plain": [
       "<matplotlib.figure.Figure at 0x116a225f8>"
      ]
     },
     "metadata": {},
     "output_type": "display_data"
    },
    {
     "data": {
      "text/plain": [
       "<matplotlib.figure.Figure at 0x116b1b940>"
      ]
     },
     "metadata": {},
     "output_type": "display_data"
    },
    {
     "name": "stdout",
     "output_type": "stream",
     "text": [
      "1    150.0 4.834e-03   188.6   -14.8 \n"
     ]
    },
    {
     "data": {
      "text/plain": [
       "<matplotlib.figure.Figure at 0x116a64d68>"
      ]
     },
     "metadata": {},
     "output_type": "display_data"
    },
    {
     "data": {
      "text/plain": [
       "<matplotlib.figure.Figure at 0x11690a0f0>"
      ]
     },
     "metadata": {},
     "output_type": "display_data"
    },
    {
     "data": {
      "text/plain": [
       "<matplotlib.figure.Figure at 0x116b27d30>"
      ]
     },
     "metadata": {},
     "output_type": "display_data"
    },
    {
     "name": "stdout",
     "output_type": "stream",
     "text": [
      "2    250.0 5.453e-03   189.8   -23.4 \n"
     ]
    },
    {
     "data": {
      "text/plain": [
       "<matplotlib.figure.Figure at 0x116b27fd0>"
      ]
     },
     "metadata": {},
     "output_type": "display_data"
    },
    {
     "data": {
      "text/plain": [
       "<matplotlib.figure.Figure at 0x116b37e48>"
      ]
     },
     "metadata": {},
     "output_type": "display_data"
    },
    {
     "data": {
      "text/plain": [
       "<matplotlib.figure.Figure at 0x116e0d7b8>"
      ]
     },
     "metadata": {},
     "output_type": "display_data"
    },
    {
     "name": "stdout",
     "output_type": "stream",
     "text": [
      "3    350.0 5.978e-03   191.1   -27.1 \n"
     ]
    },
    {
     "data": {
      "text/plain": [
       "<matplotlib.figure.Figure at 0x116e0d080>"
      ]
     },
     "metadata": {},
     "output_type": "display_data"
    },
    {
     "data": {
      "text/plain": [
       "<matplotlib.figure.Figure at 0x116e18898>"
      ]
     },
     "metadata": {},
     "output_type": "display_data"
    },
    {
     "data": {
      "text/plain": [
       "<matplotlib.figure.Figure at 0x116e1f160>"
      ]
     },
     "metadata": {},
     "output_type": "display_data"
    },
    {
     "name": "stdout",
     "output_type": "stream",
     "text": [
      "4    450.0 6.400e-03   192.1   -30.8 \n"
     ]
    },
    {
     "data": {
      "text/plain": [
       "<matplotlib.figure.Figure at 0x116e1f978>"
      ]
     },
     "metadata": {},
     "output_type": "display_data"
    },
    {
     "data": {
      "text/plain": [
       "<matplotlib.figure.Figure at 0x116e293c8>"
      ]
     },
     "metadata": {},
     "output_type": "display_data"
    },
    {
     "data": {
      "text/plain": [
       "<matplotlib.figure.Figure at 0x116e29c50>"
      ]
     },
     "metadata": {},
     "output_type": "display_data"
    },
    {
     "name": "stdout",
     "output_type": "stream",
     "text": [
      "5    500.0 6.525e-03   193.4   -32.5 \n"
     ]
    },
    {
     "data": {
      "text/plain": [
       "<matplotlib.figure.Figure at 0x116e32470>"
      ]
     },
     "metadata": {},
     "output_type": "display_data"
    },
    {
     "data": {
      "text/plain": [
       "<matplotlib.figure.Figure at 0x116e32d30>"
      ]
     },
     "metadata": {},
     "output_type": "display_data"
    },
    {
     "data": {
      "text/plain": [
       "<matplotlib.figure.Figure at 0x116e3c5f8>"
      ]
     },
     "metadata": {},
     "output_type": "display_data"
    },
    {
     "name": "stdout",
     "output_type": "stream",
     "text": [
      "6    525.0 5.950e-03   193.9   -34.5 \n"
     ]
    },
    {
     "data": {
      "text/plain": [
       "<matplotlib.figure.Figure at 0x116e3cef0>"
      ]
     },
     "metadata": {},
     "output_type": "display_data"
    },
    {
     "data": {
      "text/plain": [
       "<matplotlib.figure.Figure at 0x116e3c9b0>"
      ]
     },
     "metadata": {},
     "output_type": "display_data"
    },
    {
     "data": {
      "text/plain": [
       "<matplotlib.figure.Figure at 0x11747f080>"
      ]
     },
     "metadata": {},
     "output_type": "display_data"
    },
    {
     "name": "stdout",
     "output_type": "stream",
     "text": [
      "7    550.0 2.927e-03   193.7   -34.1 \n"
     ]
    },
    {
     "data": {
      "text/plain": [
       "<matplotlib.figure.Figure at 0x116a49128>"
      ]
     },
     "metadata": {},
     "output_type": "display_data"
    },
    {
     "data": {
      "text/plain": [
       "<matplotlib.figure.Figure at 0x11747fcc0>"
      ]
     },
     "metadata": {},
     "output_type": "display_data"
    },
    {
     "data": {
      "text/plain": [
       "<matplotlib.figure.Figure at 0x117489a58>"
      ]
     },
     "metadata": {},
     "output_type": "display_data"
    },
    {
     "name": "stdout",
     "output_type": "stream",
     "text": [
      "8    575.0 3.830e-04   200.1   -22.0 \n"
     ]
    },
    {
     "data": {
      "text/plain": [
       "<matplotlib.figure.Figure at 0x117493240>"
      ]
     },
     "metadata": {},
     "output_type": "display_data"
    },
    {
     "data": {
      "text/plain": [
       "<matplotlib.figure.Figure at 0x1139d9898>"
      ]
     },
     "metadata": {},
     "output_type": "display_data"
    },
    {
     "data": {
      "text/plain": [
       "<matplotlib.figure.Figure at 0x11749b4a8>"
      ]
     },
     "metadata": {},
     "output_type": "display_data"
    }
   ],
   "source": [
    "ipmag.zeq(path_to_file='Chapter_9',file='zijd_example.txt', units='C')\n"
   ]
  },
  {
   "cell_type": "markdown",
   "metadata": {},
   "source": [
    "## Problem 1c"
   ]
  },
  {
   "cell_type": "markdown",
   "metadata": {},
   "source": [
    "It looks like there is a North and Downward directed low temperature component (VRM in present field?) and a south and upward directed characteristic component.  "
   ]
  },
  {
   "cell_type": "markdown",
   "metadata": {},
   "source": [
    "## Problem 1d\n",
    "Now I want to fit a line through points 5 to 8 and then again a plane through all the points.  First the line: "
   ]
  },
  {
   "cell_type": "code",
   "execution_count": 4,
   "metadata": {},
   "outputs": [
    {
     "name": "stdout",
     "output_type": "stream",
     "text": [
      "ex9-1\n",
      "step treat  intensity  dec    inc\n",
      "0     20.0 4.199e-03   186.1    -2.3 \n"
     ]
    },
    {
     "data": {
      "image/png": "[encoded data removed]",
      "text/plain": [
       "<matplotlib.figure.Figure at 0x1174a52e8>"
      ]
     },
     "metadata": {},
     "output_type": "display_data"
    },
    {
     "data": {
      "image/png": "[encoded data removed]",
      "text/plain": [
       "<matplotlib.figure.Figure at 0x1174a5860>"
      ]
     },
     "metadata": {},
     "output_type": "display_data"
    },
    {
     "data": {
      "image/png": "[encoded data removed]",
      "text/plain": [
       "<matplotlib.figure.Figure at 0x1174a5e80>"
      ]
     },
     "metadata": {},
     "output_type": "display_data"
    },
    {
     "data": {
      "text/plain": [
       "<matplotlib.figure.Figure at 0x11cfab2e8>"
      ]
     },
     "metadata": {},
     "output_type": "display_data"
    },
    {
     "data": {
      "text/plain": [
       "<matplotlib.figure.Figure at 0x11695d048>"
      ]
     },
     "metadata": {},
     "output_type": "display_data"
    },
    {
     "name": "stdout",
     "output_type": "stream",
     "text": [
      "1    150.0 4.834e-03   188.6   -14.8 \n"
     ]
    },
    {
     "data": {
      "text/plain": [
       "<matplotlib.figure.Figure at 0x116a718d0>"
      ]
     },
     "metadata": {},
     "output_type": "display_data"
    },
    {
     "data": {
      "text/plain": [
       "<matplotlib.figure.Figure at 0x11cecdd68>"
      ]
     },
     "metadata": {},
     "output_type": "display_data"
    },
    {
     "data": {
      "text/plain": [
       "<matplotlib.figure.Figure at 0x11d1573c8>"
      ]
     },
     "metadata": {},
     "output_type": "display_data"
    },
    {
     "name": "stdout",
     "output_type": "stream",
     "text": [
      "2    250.0 5.453e-03   189.8   -23.4 \n"
     ]
    },
    {
     "data": {
      "text/plain": [
       "<matplotlib.figure.Figure at 0x11d042160>"
      ]
     },
     "metadata": {},
     "output_type": "display_data"
    },
    {
     "data": {
      "text/plain": [
       "<matplotlib.figure.Figure at 0x11d164a58>"
      ]
     },
     "metadata": {},
     "output_type": "display_data"
    },
    {
     "data": {
      "text/plain": [
       "<matplotlib.figure.Figure at 0x11d16d3c8>"
      ]
     },
     "metadata": {},
     "output_type": "display_data"
    },
    {
     "name": "stdout",
     "output_type": "stream",
     "text": [
      "3    350.0 5.978e-03   191.1   -27.1 \n"
     ]
    },
    {
     "data": {
      "text/plain": [
       "<matplotlib.figure.Figure at 0x11d16ddd8>"
      ]
     },
     "metadata": {},
     "output_type": "display_data"
    },
    {
     "data": {
      "text/plain": [
       "<matplotlib.figure.Figure at 0x11d53a5c0>"
      ]
     },
     "metadata": {},
     "output_type": "display_data"
    },
    {
     "data": {
      "text/plain": [
       "<matplotlib.figure.Figure at 0x11d07fdd8>"
      ]
     },
     "metadata": {},
     "output_type": "display_data"
    },
    {
     "name": "stdout",
     "output_type": "stream",
     "text": [
      "4    450.0 6.400e-03   192.1   -30.8 \n"
     ]
    },
    {
     "data": {
      "text/plain": [
       "<matplotlib.figure.Figure at 0x11d543668>"
      ]
     },
     "metadata": {},
     "output_type": "display_data"
    },
    {
     "data": {
      "text/plain": [
       "<matplotlib.figure.Figure at 0x11d543f98>"
      ]
     },
     "metadata": {},
     "output_type": "display_data"
    },
    {
     "data": {
      "text/plain": [
       "<matplotlib.figure.Figure at 0x11d54d860>"
      ]
     },
     "metadata": {},
     "output_type": "display_data"
    },
    {
     "name": "stdout",
     "output_type": "stream",
     "text": [
      "5    500.0 6.525e-03   193.4   -32.5 \n"
     ]
    },
    {
     "data": {
      "text/plain": [
       "<matplotlib.figure.Figure at 0x11d5550b8>"
      ]
     },
     "metadata": {},
     "output_type": "display_data"
    },
    {
     "data": {
      "text/plain": [
       "<matplotlib.figure.Figure at 0x11d5558d0>"
      ]
     },
     "metadata": {},
     "output_type": "display_data"
    },
    {
     "data": {
      "text/plain": [
       "<matplotlib.figure.Figure at 0x11d55f278>"
      ]
     },
     "metadata": {},
     "output_type": "display_data"
    },
    {
     "name": "stdout",
     "output_type": "stream",
     "text": [
      "6    525.0 5.950e-03   193.9   -34.5 \n"
     ]
    },
    {
     "data": {
      "text/plain": [
       "<matplotlib.figure.Figure at 0x11d55fa90>"
      ]
     },
     "metadata": {},
     "output_type": "display_data"
    },
    {
     "data": {
      "text/plain": [
       "<matplotlib.figure.Figure at 0x11d569390>"
      ]
     },
     "metadata": {},
     "output_type": "display_data"
    },
    {
     "data": {
      "text/plain": [
       "<matplotlib.figure.Figure at 0x11d569c18>"
      ]
     },
     "metadata": {},
     "output_type": "display_data"
    },
    {
     "name": "stdout",
     "output_type": "stream",
     "text": [
      "7    550.0 2.927e-03   193.7   -34.1 \n"
     ]
    },
    {
     "data": {
      "text/plain": [
       "<matplotlib.figure.Figure at 0x11d569f98>"
      ]
     },
     "metadata": {},
     "output_type": "display_data"
    },
    {
     "data": {
      "text/plain": [
       "<matplotlib.figure.Figure at 0x11d573e80>"
      ]
     },
     "metadata": {},
     "output_type": "display_data"
    },
    {
     "data": {
      "text/plain": [
       "<matplotlib.figure.Figure at 0x11dbac6d8>"
      ]
     },
     "metadata": {},
     "output_type": "display_data"
    },
    {
     "name": "stdout",
     "output_type": "stream",
     "text": [
      "8    575.0 3.830e-04   200.1   -22.0 \n"
     ]
    },
    {
     "data": {
      "text/plain": [
       "<matplotlib.figure.Figure at 0x11dbacf60>"
      ]
     },
     "metadata": {},
     "output_type": "display_data"
    },
    {
     "data": {
      "text/plain": [
       "<matplotlib.figure.Figure at 0x11dbb5828>"
      ]
     },
     "metadata": {},
     "output_type": "display_data"
    },
    {
     "data": {
      "text/plain": [
       "<matplotlib.figure.Figure at 0x11dbbe160>"
      ]
     },
     "metadata": {},
     "output_type": "display_data"
    },
    {
     "name": "stdout",
     "output_type": "stream",
     "text": [
      "Specimen, calc_type, N, min, max, MAD, dec, inc\n",
      "ex9-1 DE-BFL 4  500.00 575.00    2.0   193.2   -33.9\n"
     ]
    },
    {
     "data": {
      "image/png": "[encoded data removed]",
      "text/plain": [
       "<matplotlib.figure.Figure at 0x11d16dbe0>"
      ]
     },
     "metadata": {},
     "output_type": "display_data"
    },
    {
     "data": {
      "image/png": "[encoded data removed]",
      "text/plain": [
       "<matplotlib.figure.Figure at 0x11dbc8320>"
      ]
     },
     "metadata": {},
     "output_type": "display_data"
    },
    {
     "data": {
      "image/png": "[encoded data removed]",
      "text/plain": [
       "<matplotlib.figure.Figure at 0x11dbc8ac8>"
      ]
     },
     "metadata": {},
     "output_type": "display_data"
    }
   ],
   "source": [
    "ipmag.zeq(path_to_file='Chapter_9',file='zijd_example.txt', units='C', fmt='png',begin_pca=5,end_pca=8)"
   ]
  },
  {
   "cell_type": "markdown",
   "metadata": {},
   "source": [
    "The approximate direction of the low stability component is (assuming for the moment that these are geographic coordinates), we have a northeast and down low stability component and an a southeast and up high stability component.   The magnetization is pretty much \"dead\" by 575$^{\\circ}$C, quite close to the Curie Temperature of magnetite, so we guess \"magnetite\" as a remanence carrier.  \n"
   ]
  },
  {
   "cell_type": "markdown",
   "metadata": {},
   "source": [
    "And now the plane through all the points - and I want to look at the equal area projection instead of the Zijderveld plot. "
   ]
  },
  {
   "cell_type": "code",
   "execution_count": 5,
   "metadata": {},
   "outputs": [
    {
     "name": "stdout",
     "output_type": "stream",
     "text": [
      "ex9-1\n",
      "step treat  intensity  dec    inc\n",
      "0     20.0 4.199e-03   186.1    -2.3 \n"
     ]
    },
    {
     "data": {
      "image/png": "[encoded data removed]",
      "text/plain": [
       "<matplotlib.figure.Figure at 0x1168062e8>"
      ]
     },
     "metadata": {},
     "output_type": "display_data"
    },
    {
     "data": {
      "image/png": "[encoded data removed]",
      "text/plain": [
       "<matplotlib.figure.Figure at 0x1168d1a20>"
      ]
     },
     "metadata": {},
     "output_type": "display_data"
    },
    {
     "data": {
      "image/png": "[encoded data removed]",
      "text/plain": [
       "<matplotlib.figure.Figure at 0x1169287b8>"
      ]
     },
     "metadata": {},
     "output_type": "display_data"
    },
    {
     "data": {
      "text/plain": [
       "<matplotlib.figure.Figure at 0x11d5455c0>"
      ]
     },
     "metadata": {},
     "output_type": "display_data"
    },
    {
     "data": {
      "text/plain": [
       "<matplotlib.figure.Figure at 0x11d069c50>"
      ]
     },
     "metadata": {},
     "output_type": "display_data"
    },
    {
     "name": "stdout",
     "output_type": "stream",
     "text": [
      "1    150.0 4.834e-03   188.6   -14.8 \n"
     ]
    },
    {
     "data": {
      "text/plain": [
       "<matplotlib.figure.Figure at 0x1168089b0>"
      ]
     },
     "metadata": {},
     "output_type": "display_data"
    },
    {
     "data": {
      "text/plain": [
       "<matplotlib.figure.Figure at 0x116807780>"
      ]
     },
     "metadata": {},
     "output_type": "display_data"
    },
    {
     "data": {
      "text/plain": [
       "<matplotlib.figure.Figure at 0x116e33e80>"
      ]
     },
     "metadata": {},
     "output_type": "display_data"
    },
    {
     "name": "stdout",
     "output_type": "stream",
     "text": [
      "2    250.0 5.453e-03   189.8   -23.4 \n"
     ]
    },
    {
     "data": {
      "text/plain": [
       "<matplotlib.figure.Figure at 0x116b26208>"
      ]
     },
     "metadata": {},
     "output_type": "display_data"
    },
    {
     "data": {
      "text/plain": [
       "<matplotlib.figure.Figure at 0x116e2e390>"
      ]
     },
     "metadata": {},
     "output_type": "display_data"
    },
    {
     "data": {
      "text/plain": [
       "<matplotlib.figure.Figure at 0x116e2ecc0>"
      ]
     },
     "metadata": {},
     "output_type": "display_data"
    },
    {
     "name": "stdout",
     "output_type": "stream",
     "text": [
      "3    350.0 5.978e-03   191.1   -27.1 \n"
     ]
    },
    {
     "data": {
      "text/plain": [
       "<matplotlib.figure.Figure at 0x116e15518>"
      ]
     },
     "metadata": {},
     "output_type": "display_data"
    },
    {
     "data": {
      "text/plain": [
       "<matplotlib.figure.Figure at 0x116e15e80>"
      ]
     },
     "metadata": {},
     "output_type": "display_data"
    },
    {
     "data": {
      "text/plain": [
       "<matplotlib.figure.Figure at 0x116e15828>"
      ]
     },
     "metadata": {},
     "output_type": "display_data"
    },
    {
     "name": "stdout",
     "output_type": "stream",
     "text": [
      "4    450.0 6.400e-03   192.1   -30.8 \n"
     ]
    },
    {
     "data": {
      "text/plain": [
       "<matplotlib.figure.Figure at 0x11ce5bf60>"
      ]
     },
     "metadata": {},
     "output_type": "display_data"
    },
    {
     "data": {
      "text/plain": [
       "<matplotlib.figure.Figure at 0x11ce39828>"
      ]
     },
     "metadata": {},
     "output_type": "display_data"
    },
    {
     "data": {
      "text/plain": [
       "<matplotlib.figure.Figure at 0x11ce3f160>"
      ]
     },
     "metadata": {},
     "output_type": "display_data"
    },
    {
     "name": "stdout",
     "output_type": "stream",
     "text": [
      "5    500.0 6.525e-03   193.4   -32.5 \n"
     ]
    },
    {
     "data": {
      "text/plain": [
       "<matplotlib.figure.Figure at 0x11ce39a90>"
      ]
     },
     "metadata": {},
     "output_type": "display_data"
    },
    {
     "data": {
      "text/plain": [
       "<matplotlib.figure.Figure at 0x11ce40240>"
      ]
     },
     "metadata": {},
     "output_type": "display_data"
    },
    {
     "data": {
      "text/plain": [
       "<matplotlib.figure.Figure at 0x11ce40b38>"
      ]
     },
     "metadata": {},
     "output_type": "display_data"
    },
    {
     "name": "stdout",
     "output_type": "stream",
     "text": [
      "6    525.0 5.950e-03   193.9   -34.5 \n"
     ]
    },
    {
     "data": {
      "text/plain": [
       "<matplotlib.figure.Figure at 0x11ce5d390>"
      ]
     },
     "metadata": {},
     "output_type": "display_data"
    },
    {
     "data": {
      "text/plain": [
       "<matplotlib.figure.Figure at 0x11ce5dd30>"
      ]
     },
     "metadata": {},
     "output_type": "display_data"
    },
    {
     "data": {
      "text/plain": [
       "<matplotlib.figure.Figure at 0x11ce5d588>"
      ]
     },
     "metadata": {},
     "output_type": "display_data"
    },
    {
     "name": "stdout",
     "output_type": "stream",
     "text": [
      "7    550.0 2.927e-03   193.7   -34.1 \n"
     ]
    },
    {
     "data": {
      "text/plain": [
       "<matplotlib.figure.Figure at 0x11cec3978>"
      ]
     },
     "metadata": {},
     "output_type": "display_data"
    },
    {
     "data": {
      "text/plain": [
       "<matplotlib.figure.Figure at 0x11cec6a90>"
      ]
     },
     "metadata": {},
     "output_type": "display_data"
    },
    {
     "data": {
      "text/plain": [
       "<matplotlib.figure.Figure at 0x11cec6860>"
      ]
     },
     "metadata": {},
     "output_type": "display_data"
    },
    {
     "name": "stdout",
     "output_type": "stream",
     "text": [
      "8    575.0 3.830e-04   200.1   -22.0 \n"
     ]
    },
    {
     "data": {
      "text/plain": [
       "<matplotlib.figure.Figure at 0x11cee2828>"
      ]
     },
     "metadata": {},
     "output_type": "display_data"
    },
    {
     "data": {
      "text/plain": [
       "<matplotlib.figure.Figure at 0x11cee10b8>"
      ]
     },
     "metadata": {},
     "output_type": "display_data"
    },
    {
     "data": {
      "text/plain": [
       "<matplotlib.figure.Figure at 0x11cee1a20>"
      ]
     },
     "metadata": {},
     "output_type": "display_data"
    },
    {
     "name": "stdout",
     "output_type": "stream",
     "text": [
      "Specimen, calc_type, N, min, max, MAD, dec, inc\n",
      "ex9-1 DE-BFP 9   20.00 575.00   15.9   276.5    11.6\n"
     ]
    },
    {
     "data": {
      "image/png": "[encoded data removed]",
      "text/plain": [
       "<matplotlib.figure.Figure at 0x11cec3da0>"
      ]
     },
     "metadata": {},
     "output_type": "display_data"
    },
    {
     "data": {
      "image/png": "[encoded data removed]",
      "text/plain": [
       "<matplotlib.figure.Figure at 0x11cec0c18>"
      ]
     },
     "metadata": {},
     "output_type": "display_data"
    },
    {
     "data": {
      "image/png": "[encoded data removed]",
      "text/plain": [
       "<matplotlib.figure.Figure at 0x11cecb3c8>"
      ]
     },
     "metadata": {},
     "output_type": "display_data"
    }
   ],
   "source": [
    "ipmag.zeq(path_to_file='Chapter_9',file='zijd_example.txt', units='C', fmt='png',begin_pca=0,end_pca=8,\\\n",
    "          calculation_type=\"DE-BFP\")"
   ]
  },
  {
   "cell_type": "markdown",
   "metadata": {},
   "source": [
    "The great circle interpretation makes the most sense, because the second component really only has three demagnetization steps and is not very well defined.  To acquire a VRM with a laboratory blocking temperature of 500$^{\\circ}$ held by magnetite over a million year interval, the rock must have been held at $\\sim400^{\\circ}$, using Figure 7.22.  "
   ]
  },
  {
   "cell_type": "markdown",
   "metadata": {},
   "source": [
    "## Problem 2"
   ]
  },
  {
   "cell_type": "markdown",
   "metadata": {},
   "source": [
    "\n",
    "We do this problem by calling  the function **pmag.dosundec**  after importing the module pmag.py."
   ]
  },
  {
   "cell_type": "code",
   "execution_count": 10,
   "metadata": {},
   "outputs": [
    {
     "name": "stdout",
     "output_type": "stream",
     "text": [
      "Help on function dosundec in module pmagpy.pmag:\n",
      "\n",
      "dosundec(sundata)\n",
      "    returns the declination for a given set of suncompass data\n",
      "    Parameters\n",
      "    __________\n",
      "      sundata : dictionary with these keys:\n",
      "          date: time string with the format 'yyyy:mm:dd:hr:min'\n",
      "          delta_u: time to SUBTRACT from local time for Universal time\n",
      "          lat: latitude of location (negative for south)\n",
      "          lon: longitude of location (negative for west)\n",
      "          shadow_angle: shadow angle of the desired direction with respect to the sun.\n",
      "    Returns\n",
      "    ________\n",
      "       sunaz : the declination of the desired direction wrt true north.\n",
      "\n"
     ]
    }
   ],
   "source": [
    "import pmagpy.pmag as pmag\n",
    "help(pmag.dosundec)"
   ]
  },
  {
   "cell_type": "markdown",
   "metadata": {},
   "source": [
    "So we just fill in the sundata dictionary with the desired numbers and call pmag.dosundec."
   ]
  },
  {
   "cell_type": "code",
   "execution_count": 11,
   "metadata": {},
   "outputs": [
    {
     "name": "stdout",
     "output_type": "stream",
     "text": [
      "  154.2\n"
     ]
    }
   ],
   "source": [
    "sundata={'date':'1994:05:23:16:09','delta_u':3,'lat':35,'lon':33,'shadow_angle':68}\n",
    "print ('%7.1f'%(pmag.dosundec(sundata)))"
   ]
  },
  {
   "cell_type": "markdown",
   "metadata": {},
   "source": [
    "## Problem 3a"
   ]
  },
  {
   "cell_type": "markdown",
   "metadata": {},
   "source": [
    "This problem is challenging. First do the problem \"by hand\" using a stereonet.  You can check your answer with the PmagPy program di_tilt.py on the command line:\n",
    "\n",
    "$ di_tilt.py -i\n",
    "\n",
    "_Declination: <cntl-D> to quit_ 336\n",
    "\n",
    "_Inclination:_ -2\n",
    "\n",
    "_Dip direction:_ 351\n",
    "\n",
    "_Dip: 41_\n",
    "\n",
    "  330.9   -41.3\n",
    "  "
   ]
  },
  {
   "cell_type": "markdown",
   "metadata": {},
   "source": [
    "## Problem 3b"
   ]
  },
  {
   "cell_type": "markdown",
   "metadata": {},
   "source": [
    "Let's try this one by called the function pmag.dotilt(dec,inc,bed_az,bed_dip).  "
   ]
  },
  {
   "cell_type": "code",
   "execution_count": 12,
   "metadata": {},
   "outputs": [
    {
     "name": "stdout",
     "output_type": "stream",
     "text": [
      "Help on function dotilt in module pmagpy.pmag:\n",
      "\n",
      "dotilt(dec, inc, bed_az, bed_dip)\n",
      "    Does a tilt correction on a direction (dec,inc) using bedding dip direction\n",
      "    and bedding dip.\n",
      "    \n",
      "    Parameters\n",
      "    ----------\n",
      "    dec : declination directions in degrees\n",
      "    inc : inclination direction in degrees\n",
      "    bed_az : bedding dip direction\n",
      "    bed_dip : bedding dip\n",
      "    \n",
      "    Returns\n",
      "    -------\n",
      "    dec,inc : a tuple of rotated dec, inc values\n",
      "    \n",
      "    Examples\n",
      "    -------\n",
      "    >>> pmag.dotilt(91.2,43.1,90.0,20.0)\n",
      "    (90.952568837153436, 23.103411670066617)\n",
      "\n"
     ]
    }
   ],
   "source": [
    "help(pmag.dotilt)"
   ]
  },
  {
   "cell_type": "code",
   "execution_count": 43,
   "metadata": {},
   "outputs": [
    {
     "name": "stdout",
     "output_type": "stream",
     "text": [
      "  330.9   -41.3\n"
     ]
    }
   ],
   "source": [
    "print ('%7.1f %7.1f'%(pmag.dotilt(336,-2,351,41)))"
   ]
  },
  {
   "cell_type": "markdown",
   "metadata": {},
   "source": [
    "## Problem 4"
   ]
  },
  {
   "cell_type": "markdown",
   "metadata": {},
   "source": [
    "(from Robert Butler):  To unplunge the fold, we must rotate the fold axis to horizontal. This is\n",
    "done by rotating about a horizontal axis which is 90° from the trend of the\n",
    "fold axis; at azimuth 260° in this case. The NRM direction and the pole to\n",
    "bedding are rotated by 20° about this axis as shown below. The resulting\n",
    "NRM direction corrected for plunge is: I=47°; D=297°. The pole to bedding\n",
    "corrected for plunge is: I=68°; D=260°.   \n",
    "\n",
    "Using our **pmag.dotilt** function, it looks like this:"
   ]
  },
  {
   "cell_type": "code",
   "execution_count": 13,
   "metadata": {},
   "outputs": [
    {
     "name": "stdout",
     "output_type": "stream",
     "text": [
      "Help on function dotilt in module pmagpy.pmag:\n",
      "\n",
      "dotilt(dec, inc, bed_az, bed_dip)\n",
      "    Does a tilt correction on a direction (dec,inc) using bedding dip direction\n",
      "    and bedding dip.\n",
      "    \n",
      "    Parameters\n",
      "    ----------\n",
      "    dec : declination directions in degrees\n",
      "    inc : inclination direction in degrees\n",
      "    bed_az : bedding dip direction\n",
      "    bed_dip : bedding dip\n",
      "    \n",
      "    Returns\n",
      "    -------\n",
      "    dec,inc : a tuple of rotated dec, inc values\n",
      "    \n",
      "    Examples\n",
      "    -------\n",
      "    >>> pmag.dotilt(91.2,43.1,90.0,20.0)\n",
      "    (90.952568837153436, 23.103411670066617)\n",
      "\n"
     ]
    }
   ],
   "source": [
    "help(pmag.dotilt)"
   ]
  },
  {
   "cell_type": "code",
   "execution_count": 14,
   "metadata": {},
   "outputs": [
    {
     "name": "stdout",
     "output_type": "stream",
     "text": [
      "plunge corrected bedding pole azimuth and dip: ,  259.0    68.2\n",
      "plunge corrected declination inclination: ,  296.6    46.7\n"
     ]
    }
   ],
   "source": [
    "dec,inc=309,33  # declination and inclination of direction\n",
    "bed_az,bed_dip=120,29 # bedding dip direction and dip\n",
    "bed_pole_az=bed_az+180 # azimuth of  bedding pole \n",
    "bed_pole_dip=90.-bed_dip # azimuth of bedding dip\n",
    "trend,plunge=170,20\n",
    "# first correct the bed_pole_az, bed_pole_dip, dec, inc for the trend and plunge:\n",
    "bed_pole_az_corr,bed_pole_dip_corr=pmag.dotilt(bed_pole_az,bed_pole_dip,trend,plunge)\n",
    "dec_corr,inc_corr=pmag.dotilt(dec,inc,trend,plunge)\n",
    "print ('plunge corrected bedding pole azimuth and dip: ,%7.1f %7.1f'%(bed_pole_az_corr,bed_pole_dip_corr))\n",
    "print ('plunge corrected declination inclination: ,%7.1f %7.1f'%(dec_corr,inc_corr))\n"
   ]
  },
  {
   "cell_type": "markdown",
   "metadata": {},
   "source": [
    "To complete the structural correction, we must rotate the NRM direction\n",
    "while restoring the beds to horizontal about the bedding strike (corrected\n",
    "for plunge). The pole to bedding is I=68°; D=260°. So the dip is 22° and\n",
    "strike is 170°. Rotating the plunge corrected NRM direction about this\n",
    "strike line (as shown below) yields NRM direction: I=62°; D=320°.\n",
    "\n",
    "Using **pmag.dotilt**, we get:\n"
   ]
  },
  {
   "cell_type": "code",
   "execution_count": 45,
   "metadata": {},
   "outputs": [
    {
     "name": "stdout",
     "output_type": "stream",
     "text": [
      "   79.0    21.8\n",
      "plunge and tilt corrected values:   319.8    61.4\n"
     ]
    }
   ],
   "source": [
    "# first fine the bedding dip direction and dip from the pole to the bed\n",
    "# (corrected for plunge)\n",
    "# remember that bedding dip direction is at right angles to the strike\n",
    "bed_az_corr,bed_dip_corr= bed_pole_az_corr-180.,90.-bed_pole_dip_corr\n",
    "print ('%7.1f %7.1f'%(bed_az_corr,bed_dip_corr))\n",
    "# now plug these numbers into pmag.dotilt to get the tilt and plunge corrected values.\n",
    "print ('plunge and tilt corrected values: %7.1f %7.1f'%(pmag.dotilt(dec_corr,inc_corr,bed_az_corr,bed_dip_corr)))"
   ]
  },
  {
   "cell_type": "markdown",
   "metadata": {},
   "source": [
    "## Problem 5"
   ]
  },
  {
   "cell_type": "markdown",
   "metadata": {},
   "source": [
    "Here is a function that will do the geographic correction:"
   ]
  },
  {
   "cell_type": "code",
   "execution_count": 46,
   "metadata": {},
   "outputs": [],
   "source": [
    "def dogeo(dec,inc,az,pl):\n",
    "    A1,A2,A3=[],[],[] # set up lists for rotation vector\n",
    "    Dir=[dec,inc,1.] # put dec inc in direction list and set  length to unity\n",
    "    X=dir2cart(Dir) # get cartesian coordinates\n",
    "#\n",
    "#   set up rotation matrix\n",
    "#\n",
    "    A1=dir2cart([az,pl,1.])\n",
    "    A2=dir2cart([az+90.,0,1.])\n",
    "    A3=dir2cart([az-180.,90.-pl,1.])\n",
    "#\n",
    "# do rotation\n",
    "#\n",
    "    xp=A1[0]*X[0]+A2[0]*X[1]+A3[0]*X[2]\n",
    "    yp=A1[1]*X[0]+A2[1]*X[1]+A3[1]*X[2]\n",
    "    zp=A1[2]*X[0]+A2[2]*X[1]+A3[2]*X[2]\n",
    "#\n",
    "# transform back to dec,inc\n",
    "#\n",
    "    Dir_geo=pmag.cart2dir([xp,yp,zp])\n",
    "    return Dir_geo[0],Dir_geo[1] # return the corrected dec and inc\n"
   ]
  },
  {
   "cell_type": "markdown",
   "metadata": {},
   "source": [
    "which we can call here:"
   ]
  },
  {
   "cell_type": "code",
   "execution_count": 47,
   "metadata": {},
   "outputs": [
    {
     "name": "stdout",
     "output_type": "stream",
     "text": [
      "    5.3    71.6\n"
     ]
    }
   ],
   "source": [
    "dec,inc,az,pl = 8.1,45.2, 347 ,27\n",
    "dec_geo,inc_geo=dogeo(dec,inc,az,pl)\n",
    "print ('%7.1f %7.1f'%(dec_geo,inc_geo))"
   ]
  },
  {
   "cell_type": "markdown",
   "metadata": {},
   "source": [
    "And here is one for doing tilt corrections: "
   ]
  },
  {
   "cell_type": "code",
   "execution_count": 51,
   "metadata": {},
   "outputs": [],
   "source": [
    "def dotilt(dec,inc,bed_az,bed_dip):\n",
    "    # this calls functions from the pmag module that we have already written in previous \n",
    "    # homework problems.   you can use these, or use your own! \n",
    "    X=pmag.dir2cart([dec,inc,1.]) # get cartesian coordinates of dec,inc\n",
    "# get some sines and cosines of new coordinate system\n",
    "    sa,ca= -np.sin(np.radians(bed_az)),np.cos( np.radians(bed_az))\n",
    "    cdp,sdp= np.cos(np.radians(bed_dip)),np.sin(np.radians(bed_dip))\n",
    "# do the rotation\n",
    "    xc=X[0]*(sa*sa+ca*ca*cdp)+X[1]*(ca*sa*(1.-cdp))+X[2]*sdp*ca\n",
    "    yc=X[0]*ca*sa*(1.-cdp)+X[1]*(ca*ca+sa*sa*cdp)-X[2]*sa*sdp\n",
    "    zc=X[0]*ca*sdp-X[1]*sdp*sa-X[2]*cdp\n",
    "# convert back to direction:\n",
    "    Dir=pmag.cart2dir([xc,yc,-zc])\n",
    "    return Dir[0],Dir[1] # return declination, inclination of rotated direction\n"
   ]
  },
  {
   "cell_type": "markdown",
   "metadata": {},
   "source": [
    "Let's take the geographically corrected dec and inc from before and plug it in:"
   ]
  },
  {
   "cell_type": "code",
   "execution_count": 52,
   "metadata": {},
   "outputs": [
    {
     "name": "stdout",
     "output_type": "stream",
     "text": [
      "    5.3    71.6\n"
     ]
    }
   ],
   "source": [
    "bed_az,bed_dip=225.,21. # add 90 to strike to get bedding dip direction. \n",
    "dec_tilt,inc_tilt=dotilt(dec_geo,inc_geo,bed_az,bed_dip)\n",
    "print ('%7.1f %7.1f'%(dec_geo,inc_geo))"
   ]
  },
  {
   "cell_type": "markdown",
   "metadata": {},
   "source": [
    "## Problem 6"
   ]
  },
  {
   "cell_type": "markdown",
   "metadata": {},
   "source": [
    "Just follow the instructions in the problem set.  "
   ]
  },
  {
   "cell_type": "code",
   "execution_count": null,
   "metadata": {},
   "outputs": [],
   "source": []
  }
 ],
 "metadata": {
  "kernelspec": {
   "display_name": "Python 3",
   "language": "python",
   "name": "python3"
  },
  "language_info": {
   "codemirror_mode": {
    "name": "ipython",
    "version": 3
   },
   "file_extension": ".py",
   "mimetype": "text/x-python",
   "name": "python",
   "nbconvert_exporter": "python",
   "pygments_lexer": "ipython3",
   "version": "3.7.0"
  }
 },
 "nbformat": 4,
 "nbformat_minor": 1
}
