{
 "cells": [
  {
   "cell_type": "markdown",
   "metadata": {},
   "source": [
    "# Jupyter Notebook  problems in the Essentials of Paleomagnetism Textbook by L. Tauxe"
   ]
  },
  {
   "cell_type": "markdown",
   "metadata": {},
   "source": [
    "## Problems in Chapter 16"
   ]
  },
  {
   "cell_type": "markdown",
   "metadata": {},
   "source": [
    "First let's set things up for business. "
   ]
  },
  {
   "cell_type": "code",
   "execution_count": 1,
   "metadata": {},
   "outputs": [],
   "source": [
    "import pmagpy.ipmag as ipmag\n",
    "import pmagpy.pmag as pmag\n",
    "import pandas as pd\n",
    "import numpy as np\n",
    "import matplotlib.pylab as plt\n",
    "%matplotlib inline\n"
   ]
  },
  {
   "cell_type": "markdown",
   "metadata": {},
   "source": [
    "## Problem 1a"
   ]
  },
  {
   "cell_type": "markdown",
   "metadata": {},
   "source": [
    "We need to use the function **pmag.bc02** to calculate the expected direction for the Mojave Desert (34.5N,117W).  So let's remind ourselves about how it works.  "
   ]
  },
  {
   "cell_type": "code",
   "execution_count": 55,
   "metadata": {},
   "outputs": [
    {
     "name": "stdout",
     "output_type": "stream",
     "text": [
      "Help on function apwp in module pmagpy.pmag:\n",
      "\n",
      "apwp(data, print_results=False)\n",
      "    calculates expected pole positions and directions for given plate, location and age\n",
      "    Parameters \n",
      "    _________\n",
      "        data : [plate,lat,lon,age]\n",
      "        print_results : if True will print out nicely formatted results\n",
      "    Returns\n",
      "    _________\n",
      "        if print_results is False, [Age,Paleolat, Dec, Inc, Pole_lat, Pole_lon]\n",
      "\n"
     ]
    }
   ],
   "source": [
    "help(pmag.apwp)"
   ]
  },
  {
   "cell_type": "markdown",
   "metadata": {},
   "source": [
    "Don't forget the minus sign on the longitude! "
   ]
  },
  {
   "cell_type": "code",
   "execution_count": 57,
   "metadata": {},
   "outputs": [
    {
     "name": "stdout",
     "output_type": "stream",
     "text": [
      " Age   Paleolat.   Dec.   Inc.   Pole_lat.  Pole_Long.\n",
      "   20.0    34.7   349.2    54.1    81.1    156.7\n",
      "\n"
     ]
    }
   ],
   "source": [
    "data=['NA',34.5,-117.5,20]\n",
    "pmag.apwp(data,print_results=True)"
   ]
  },
  {
   "cell_type": "markdown",
   "metadata": {},
   "source": [
    "## Problem 1b"
   ]
  },
  {
   "cell_type": "markdown",
   "metadata": {},
   "source": [
    "I went to http://earthref.org/MagIC/search and filled in the search criteria as requested and downloaded a file in  a Project Directory called 'MojaveDesert'.  Now we can unpack it with **ipmag.download_magic** as we did in Chapter_15.   "
   ]
  },
  {
   "cell_type": "code",
   "execution_count": 9,
   "metadata": {},
   "outputs": [
    {
     "name": "stdout",
     "output_type": "stream",
     "text": [
      "Help on function download_magic in module pmagpy.ipmag:\n",
      "\n",
      "download_magic(infile, dir_path='.', input_dir_path='.', overwrite=False, print_progress=True, data_model=3.0, separate_locs=False)\n",
      "    takes the name of a text file downloaded from the MagIC database and\n",
      "    unpacks it into magic-formatted files. by default, download_magic assumes\n",
      "    that you are doing everything in your current directory. if not, you may\n",
      "    provide optional arguments dir_path (where you want the results to go) and\n",
      "    input_dir_path (where the downloaded file is).\n",
      "    \n",
      "    Parameters\n",
      "    ----------\n",
      "    infile : str\n",
      "        MagIC-format file to unpack\n",
      "    dir_path : str\n",
      "        output directory (default \".\")\n",
      "    input_dir : str\n",
      "        input directory (default \".\")\n",
      "    overwrite: bool\n",
      "        overwrite current directory (default False)\n",
      "    print_progress: bool\n",
      "        verbose output (default True)\n",
      "    data_model : float\n",
      "        MagIC data model 2.5 or 3 (default 3)\n",
      "    separate_locs : bool\n",
      "        create a separate directory for each location (Location_*)\n",
      "        (default False)\n",
      "\n"
     ]
    }
   ],
   "source": [
    "help(ipmag.download_magic)"
   ]
  },
  {
   "cell_type": "code",
   "execution_count": 15,
   "metadata": {},
   "outputs": [
    {
     "name": "stdout",
     "output_type": "stream",
     "text": [
      "working on:  'contribution'\n",
      "1  records written to file  Chapter_16/Problem_1/contribution.txt\n",
      "contribution  data put in  Chapter_16/Problem_1/contribution.txt\n",
      "working on:  'locations'\n",
      "25  records written to file  Chapter_16/Problem_1/locations.txt\n",
      "locations  data put in  Chapter_16/Problem_1/locations.txt\n"
     ]
    },
    {
     "data": {
      "text/plain": [
       "True"
      ]
     },
     "execution_count": 15,
     "metadata": {},
     "output_type": "execute_result"
    }
   ],
   "source": [
    "ipmag.download_magic('magic_downloaded_rows.txt',input_dir_path='Chapter_16/Problem_1',\\\n",
    "                    dir_path='Chapter_16/Problem_1')"
   ]
  },
  {
   "cell_type": "markdown",
   "metadata": {},
   "source": [
    "## Problem 1c"
   ]
  },
  {
   "cell_type": "markdown",
   "metadata": {},
   "source": [
    "We are asked to make an equal area plot of all the Miocene poles, so we will have to read the data in plot  those.  \n",
    "\n",
    "I know by now (and also by reading the information on the MagIC database in the PmagPy cookbook (http://earthref.org/PmagPy/cookbook) and in the data model link on the MagIC website that the locations.txt tables are tab delimited with column headers on the second line.  So, I'll read in the sites table into a Pandas DataFrame and wrangle that. "
   ]
  },
  {
   "cell_type": "code",
   "execution_count": 23,
   "metadata": {},
   "outputs": [
    {
     "data": {
      "text/plain": [
       "Index(['age_high', 'age_low', 'age_unit', 'citations', 'conglomerate_test',\n",
       "       'contact_test', 'continent_ocean', 'country', 'description',\n",
       "       'dir_alpha95', 'dir_dec', 'dir_inc', 'dir_k', 'dir_k_ratio',\n",
       "       'dir_n_samples', 'dir_n_sites', 'dir_polarity', 'dir_tilt_correction',\n",
       "       'fold_test', 'fold_test_significance', 'geologic_classes',\n",
       "       'geological_province_sections', 'lat_n', 'lat_s', 'lithologies',\n",
       "       'location', 'location_type', 'lon_e', 'lon_w', 'method_codes',\n",
       "       'pole_antipodal_angle', 'pole_comp_name', 'pole_dm', 'pole_dp',\n",
       "       'pole_lat', 'pole_lon', 'pole_reversed_perc', 'region', 'result_name',\n",
       "       'result_type', 'reversal_test', 'rock_magnetic_test'],\n",
       "      dtype='object')"
      ]
     },
     "execution_count": 23,
     "metadata": {},
     "output_type": "execute_result"
    }
   ],
   "source": [
    "file='Chapter_16/Problem_1/locations.txt' # make a filename\n",
    "alldata=pd.read_csv(file,sep='\\t',header=1)\n",
    "alldata.columns"
   ]
  },
  {
   "cell_type": "code",
   "execution_count": 19,
   "metadata": {},
   "outputs": [
    {
     "data": {
      "text/plain": [
       "0     100.0\n",
       "1       0.0\n",
       "2     100.0\n",
       "3     100.0\n",
       "4       0.0\n",
       "5     100.0\n",
       "6     100.0\n",
       "7     100.0\n",
       "8       NaN\n",
       "9     100.0\n",
       "10      0.0\n",
       "11    100.0\n",
       "12    100.0\n",
       "13    100.0\n",
       "14      0.0\n",
       "15    100.0\n",
       "16    100.0\n",
       "17      NaN\n",
       "18    100.0\n",
       "19    100.0\n",
       "20    100.0\n",
       "21      0.0\n",
       "22    100.0\n",
       "23    100.0\n",
       "24    100.0\n",
       "Name: dir_tilt_correction, dtype: float64"
      ]
     },
     "execution_count": 19,
     "metadata": {},
     "output_type": "execute_result"
    }
   ],
   "source": [
    "alldata.dir_tilt_correction"
   ]
  },
  {
   "cell_type": "markdown",
   "metadata": {},
   "source": [
    "Looks like we have some filtering to do.  First, we should use only the tilt corrected data (dir_tilt_correction=100). "
   ]
  },
  {
   "cell_type": "code",
   "execution_count": 20,
   "metadata": {},
   "outputs": [],
   "source": [
    "data=alldata[alldata.dir_tilt_correction==100]"
   ]
  },
  {
   "cell_type": "markdown",
   "metadata": {},
   "source": [
    "And we should verify that the data fall within our bounds:"
   ]
  },
  {
   "cell_type": "code",
   "execution_count": 24,
   "metadata": {},
   "outputs": [
    {
     "name": "stdout",
     "output_type": "stream",
     "text": [
      "34.8 35.5 241.2 244.0\n",
      "9.0 27.0\n"
     ]
    }
   ],
   "source": [
    "print (data.lat_s.min(),data.lat_n.max(),data.lon_w.min(),data.lon_e.max())\n",
    "print (data.age_low.min(),data.age_high.max())"
   ]
  },
  {
   "cell_type": "markdown",
   "metadata": {},
   "source": [
    "Checks out.  So, let's plot it up "
   ]
  },
  {
   "cell_type": "code",
   "execution_count": 28,
   "metadata": {},
   "outputs": [
    {
     "data": {
      "image/png": "[encoded data removed]",
      "text/plain": [
       "<matplotlib.figure.Figure at 0x112f04c88>"
      ]
     },
     "metadata": {},
     "output_type": "display_data"
    }
   ],
   "source": [
    "ipmag.plot_net(1) # make an equal angle net\n",
    "ipmag.plot_di(data.dir_dec.values,data.dir_inc.values,color='red')\n",
    "ipmag.plot_di(ExpDec,ExpInc,color='black',marker='*',markersize=100)# put on the Expected normal direction\n",
    "ipmag.plot_di((ExpDec-180)%360,-ExpInc,color='black',marker='*',markersize=100)"
   ]
  },
  {
   "cell_type": "markdown",
   "metadata": {},
   "source": [
    "Wow - that looks weird - so I'm going to plot these in 5 Ma age groups. So let's look at the ages"
   ]
  },
  {
   "cell_type": "code",
   "execution_count": 29,
   "metadata": {},
   "outputs": [
    {
     "data": {
      "image/png": "[encoded data removed]",
      "text/plain": [
       "<matplotlib.figure.Figure at 0x10fe83278>"
      ]
     },
     "metadata": {},
     "output_type": "display_data"
    }
   ],
   "source": [
    "plt.hist(data.age_low)\n",
    "plt.hist(data.age_high);"
   ]
  },
  {
   "cell_type": "code",
   "execution_count": 30,
   "metadata": {},
   "outputs": [],
   "source": [
    "young=data[data.age_low<15]\n",
    "mid=data[(data.age_low>=15)&(data.age_low<20)]\n",
    "old=data[(data.age_low>=20) & (data.age_low<25)]"
   ]
  },
  {
   "cell_type": "code",
   "execution_count": 31,
   "metadata": {},
   "outputs": [
    {
     "data": {
      "image/png": "[encoded data removed]",
      "text/plain": [
       "<matplotlib.figure.Figure at 0x112fe1860>"
      ]
     },
     "metadata": {},
     "output_type": "display_data"
    }
   ],
   "source": [
    "ipmag.plot_net(1) # make an equal angle net\n",
    "ipmag.plot_di(ExpDec,ExpInc,color='black',marker='*',markersize=100,legend='yes',label='Expected')# put on the Expected normal direction\n",
    "ipmag.plot_di((ExpDec-180)%360,-ExpInc,color='black',marker='*',markersize=100)\n",
    "ipmag.plot_di(young.dir_dec.values,young.dir_inc.values,color='blue',legend='yes',label='Young') \n",
    "ipmag.plot_di(mid.dir_dec.values,mid.dir_inc.values,color='green',legend='yes',label='Mid') \n",
    "ipmag.plot_di(old.dir_dec.values,old.dir_inc.values,color='darkorange',legend='yes',label='Old') \n"
   ]
  },
  {
   "cell_type": "markdown",
   "metadata": {},
   "source": [
    "So... between ~15 to 25 Ma there must have been some rotation going on.  But not everywhere!  In the Chapter, there is a discussion about 'displaced terranes'.  Perhaps the Mojave is one of those.  At least it appears to have undergone significant vertical axis rotation!  Or got hit by lightning or something..."
   ]
  },
  {
   "cell_type": "markdown",
   "metadata": {},
   "source": [
    "## Problem 2:"
   ]
  },
  {
   "cell_type": "markdown",
   "metadata": {},
   "source": [
    "Site 522 was drilled on the African plate and ranged in age from 23 to 35 Ma (or so).  So I should use **pmag.apwp**"
   ]
  },
  {
   "cell_type": "code",
   "execution_count": 58,
   "metadata": {},
   "outputs": [
    {
     "name": "stdout",
     "output_type": "stream",
     "text": [
      " Age   Paleolat.   Dec.   Inc.   Pole_lat.  Pole_Long.\n",
      "   33.0   -35.6   353.7   -55.1    78.9    202.9\n",
      "\n"
     ]
    }
   ],
   "source": [
    "data=['AF',-26,-5,33]\n",
    "pmag.apwp(data,print_results=True)"
   ]
  },
  {
   "cell_type": "code",
   "execution_count": 59,
   "metadata": {},
   "outputs": [
    {
     "name": "stdout",
     "output_type": "stream",
     "text": [
      " Age   Paleolat.   Dec.   Inc.   Pole_lat.  Pole_Long.\n",
      "   23.0   -33.3     0.1   -52.7    82.7    174.6\n",
      "\n"
     ]
    }
   ],
   "source": [
    "data=['AF',-26,-5,23]\n",
    "pmag.apwp(data,print_results=True)"
   ]
  },
  {
   "cell_type": "markdown",
   "metadata": {},
   "source": [
    "We'll have to read the data for Chapter 15, Problem 1 in here, assuming they've been unpacked (again - see solutions to Chapter 15), and calculate averages at the top and the bottom."
   ]
  },
  {
   "cell_type": "code",
   "execution_count": 60,
   "metadata": {},
   "outputs": [
    {
     "name": "stdout",
     "output_type": "stream",
     "text": [
      "146.7 55.23\n"
     ]
    }
   ],
   "source": [
    "specimens=pd.read_csv('Chapter_15/Problem_1/specimens.txt',sep='\\t',header=1)\n",
    "specimens=specimens.dropna(subset=['analysts']) # kill unwanted lines with duplicate or irrelevent info\n",
    "specimens['site']=specimens['specimen'] # make a column with site name\n",
    "sites=pd.read_csv('Chapter_15/Problem_1/sites.txt',sep='\\t',header=1)\n",
    "data=pd.merge(specimens,sites,on='site') # merge the two data frames on site\n",
    "\n",
    "\n",
    "MaxDepth=data.core_depth.max()\n",
    "MinDepth=data.core_depth.min()\n",
    "print (MaxDepth,MinDepth)"
   ]
  },
  {
   "cell_type": "markdown",
   "metadata": {},
   "source": [
    "I want to take the top and bottom 10 meters.  "
   ]
  },
  {
   "cell_type": "code",
   "execution_count": 44,
   "metadata": {},
   "outputs": [
    {
     "name": "stdout",
     "output_type": "stream",
     "text": [
      "Top 10 m average inclination:  {'n': 276, 'ginc': 50.44166666666662, 'inc': 51.971666666666522, 'r': 265.08627542044349, 'k': 25.197630560984411, 'alpha95': 0.99944043396377436, 'csd': 16.136344856646417}\n",
      "Bottom 10 m average inclination:  {'n': 279, 'ginc': 54.244802867383484, 'inc': 59.254802867383177, 'r': 252.07921893718697, 'k': 10.326594884128928, 'alpha95': 0.9958058147194363, 'csd': 25.206146086833229}\n"
     ]
    }
   ],
   "source": [
    "TopIncs=data[data.core_depth<65].dir_inc.values\n",
    "BottomIncs=data[data.core_depth>136].dir_inc.values\n",
    "print ('Top 10 m average inclination: ',pmag.doincfish(TopIncs))\n",
    "print ('Bottom 10 m average inclination: ',pmag.doincfish(BottomIncs))"
   ]
  },
  {
   "cell_type": "markdown",
   "metadata": {},
   "source": [
    "Wow.  These data (50 and 54 respectively) match really well with the Besse and Courtillot (2002) predictions of 53 and 55 respectively.   In fact, they used the Site 522 data to help make their APWPs! "
   ]
  },
  {
   "cell_type": "markdown",
   "metadata": {},
   "source": [
    "## Problem 3a:"
   ]
  },
  {
   "cell_type": "markdown",
   "metadata": {},
   "source": [
    "I looked up in the Appendix and found the rotation pole for North America to South Africa at 90 Ma to be $\\lambda$=74.6, $\\phi$=-23, and $\\Omega$  = 33.8.   And we were told the North American pole to rotate:  $\\lambda=75.2^{\\circ}, \\phi=201^{\\circ}$. "
   ]
  },
  {
   "cell_type": "code",
   "execution_count": 46,
   "metadata": {},
   "outputs": [
    {
     "name": "stdout",
     "output_type": "stream",
     "text": [
      "Help on function get_pole in module pmagpy.frp:\n",
      "\n",
      "get_pole(continent, age)\n",
      "    returns rotation poles and angles for specified continents and ages\n",
      "    assumes fixed Africa.  \n",
      "    Parameters\n",
      "    __________\n",
      "        continent : \n",
      "            aus : Australia\n",
      "            eur : Eurasia\n",
      "            mad : Madacascar\n",
      "            [nwaf,congo] : NW Africa  [choose one]\n",
      "            col :  Colombia\n",
      "            grn : Greenland\n",
      "            nam : North America\n",
      "            par : Paraguay\n",
      "            eant :  East Antarctica\n",
      "            ind : India\n",
      "            [neaf,kala] : NE Africa [choose one]\n",
      "            [sac,sam] :  South America [choose one]\n",
      "            ib : Iberia\n",
      "            saf : South Africa\n",
      "      Returns\n",
      "      _______\n",
      "          [pole longitude, pole latitude, rotation angle] : for the continent at specified age\n",
      "\n"
     ]
    }
   ],
   "source": [
    "import pmagpy.frp as frp\n",
    "help(frp.get_pole)"
   ]
  },
  {
   "cell_type": "code",
   "execution_count": 47,
   "metadata": {},
   "outputs": [
    {
     "name": "stdout",
     "output_type": "stream",
     "text": [
      "[74.6, -23.0, 33.8]\n"
     ]
    }
   ],
   "source": [
    "Prot=frp.get_pole('nam',90)"
   ]
  },
  {
   "cell_type": "code",
   "execution_count": 50,
   "metadata": {},
   "outputs": [],
   "source": [
    "Prot=[74.6,-23,33.8] # finite pole of rotation\n",
    "plat,plon=75.2,201"
   ]
  },
  {
   "cell_type": "markdown",
   "metadata": {},
   "source": [
    "Now for the **pmag.pt_rot** bit.  "
   ]
  },
  {
   "cell_type": "code",
   "execution_count": 51,
   "metadata": {},
   "outputs": [
    {
     "name": "stdout",
     "output_type": "stream",
     "text": [
      "Help on function pt_rot in module pmagpy.pmag:\n",
      "\n",
      "pt_rot(EP, Lats, Lons)\n",
      "    Rotates points on a globe by an Euler pole rotation using method of\n",
      "    Cox and Hart 1986, box 7-3.\n",
      "    \n",
      "    Parameters\n",
      "    ----------\n",
      "    EP : Euler pole list [lat,lon,angle]\n",
      "    Lats : list of latitudes of points to be rotated\n",
      "    Lons : list of longitudes of points to be rotated\n",
      "    \n",
      "    Returns\n",
      "    _________\n",
      "    RLats : rotated latitudes\n",
      "    RLons : rotated longitudes\n",
      "\n"
     ]
    }
   ],
   "source": [
    "help(pmag.pt_rot)"
   ]
  },
  {
   "cell_type": "code",
   "execution_count": 52,
   "metadata": {},
   "outputs": [
    {
     "name": "stdout",
     "output_type": "stream",
     "text": [
      "([67.092529767349802], [244.36711746757442])\n"
     ]
    }
   ],
   "source": [
    "print (pmag.pt_rot(Prot,[plat],[plon]))"
   ]
  },
  {
   "cell_type": "markdown",
   "metadata": {},
   "source": [
    "The African pole is $\\lambda=66.8^{\\circ}, \\phi=244.5^{\\circ}$, and we got 67.1$^{\\circ}$ and 244.4$^{\\circ}$.  Hot diggety dog.  (Now you know how old I am.)"
   ]
  },
  {
   "cell_type": "markdown",
   "metadata": {},
   "source": [
    "## Problem 4a:"
   ]
  },
  {
   "cell_type": "markdown",
   "metadata": {},
   "source": [
    "I went to the MagIC search engine  and downloaded late Cretaceous data from Europe  as instructed in the book.  I saved both the sites and the locations tables.  Now I'll unpack the data files with **ipmag.download_magic**"
   ]
  },
  {
   "cell_type": "code",
   "execution_count": 2,
   "metadata": {},
   "outputs": [
    {
     "name": "stdout",
     "output_type": "stream",
     "text": [
      "working on:  'contribution'\n",
      "1  records written to file  Chapter_16/Problem_4/contribution.txt\n",
      "contribution  data put in  Chapter_16/Problem_4/contribution.txt\n",
      "working on:  'locations'\n",
      "220  records written to file  Chapter_16/Problem_4/locations.txt\n",
      "locations  data put in  Chapter_16/Problem_4/locations.txt\n"
     ]
    },
    {
     "data": {
      "text/plain": [
       "True"
      ]
     },
     "execution_count": 2,
     "metadata": {},
     "output_type": "execute_result"
    }
   ],
   "source": [
    "ipmag.download_magic('magic_downloaded_rows.txt',dir_path='Chapter_16/Problem_4',\\\n",
    "                     input_dir_path='Chapter_16/Problem_4')"
   ]
  },
  {
   "cell_type": "markdown",
   "metadata": {},
   "source": [
    "So, let's take a look at what we have by reading the location.txt file into a Pandas DataFrame and finding the method codes available. "
   ]
  },
  {
   "cell_type": "code",
   "execution_count": 3,
   "metadata": {
    "scrolled": true
   },
   "outputs": [
    {
     "data": {
      "text/plain": [
       "array(['DE-DI:LT-AF-Z:LP-DC2', 'DE-DI:LT-AF-Z:LT-T-Z:LP-DC4',\n",
       "       'DE-DI:LT-AF-Z:LT-T-Z:LP-DC3', 'DE-DI:LT-T-Z:LP-DC4',\n",
       "       'DE-DI:LT-AF-Z:LP-DC3', 'DE-DI:LT-T-Z:LP-DC3',\n",
       "       'DE-DI:LT-AF-Z:LT-T-Z:LP-DC2', 'DE-DI:LT-NO:LP-DC1',\n",
       "       'DE-DI:LT-T-Z:LP-DC2', 'DE-DI:LT-CHEM:LT-T-Z:LP-DC3',\n",
       "       'DE-DI:LT-AF-Z:LT-T-Z:LP-DC5', 'DE-VGP:FS-H:LT-AF-Z:SO-NO:LP-DC3',\n",
       "       'DE-DI:FS-H:LT-AF-Z:SO-NO:LP-DC3', 'DE-DI:LT-T-Z:LT-T-Z:LP-DC4',\n",
       "       'DE-DI:LT-NO:LP-DC0'], dtype=object)"
      ]
     },
     "execution_count": 3,
     "metadata": {},
     "output_type": "execute_result"
    }
   ],
   "source": [
    "poles=pd.read_csv('Chapter_16/Problem_4/locations.txt',sep='\\t',header=1)\n",
    "poles.method_codes.unique()\n"
   ]
  },
  {
   "cell_type": "markdown",
   "metadata": {},
   "source": [
    "Now let's fish out the \"best\" poles with LP-DC4 or LP-DC5. "
   ]
  },
  {
   "cell_type": "code",
   "execution_count": 64,
   "metadata": {},
   "outputs": [],
   "source": [
    "dc4=poles[poles.method_codes.str.contains('DC4')]\n",
    "dc5=poles[poles.method_codes.str.contains('DC5')]\n",
    "best_poles=pd.concat([dc4,dc5])"
   ]
  },
  {
   "cell_type": "markdown",
   "metadata": {},
   "source": [
    "## Problem 4b:"
   ]
  },
  {
   "cell_type": "markdown",
   "metadata": {},
   "source": [
    "Some of the data were included in other results, were overprints, or were otherwise superceded.  These details are in a comment field called description.  So let's read these descriptions and figure out how to eliminate the ones we don't want. "
   ]
  },
  {
   "cell_type": "code",
   "execution_count": 65,
   "metadata": {},
   "outputs": [
    {
     "name": "stdout",
     "output_type": "stream",
     "text": [
      "1 Upper Hauterivian to Albian. Extent Thickness 117m. Thermal to 575C, AF to 100mT, characteristic component.\n",
      "2 Upper Hauterivian to Albian. Extent Thickness 117m. Thermal to 575C, AF to 100mT, characteristic component.\n",
      "3 Upper Hauterivian to Albian. Extent Thickness 117m. Thermal to 575C, AF to 100mT, characteristic component.\n",
      "4 Upper Hauterivian to Albian. Extent Thickness 117m. Thermal to 575C, AF to 100mT, characteristic component.\n",
      "5 Neocomian to Aptian age?. AF to 100mT, thermal to 300C, characteristic component. Secondary magnetization mid-Tertiary?.\n",
      "6 Neocomian to Aptian age?. AF to 100mT, thermal to 300C, characteristic component. Secondary magnetization mid-Tertiary?.\n",
      "14 Aptian to Albian. Thermal to 500C, characteristic component 250-500C. IRM (sat. 0. 4T) ; HYST.\n",
      "15 Aptian to Albian. Thermal to 500C, characteristic component 250-500C. IRM (sat. 0. 4T) ; HYST.\n",
      "16 Berriasian to Barremian. Group 1. Thermal to 500C, characteristic component 250-500C. IRM (sat. 0. 4T) ; HYST. Remagnetized in Albian-Aptian.\n",
      "17 Berriasian to Barremian. Group 1. Thermal to 500C, characteristic component 250-500C. IRM (sat. 0. 4T) ; HYST. Remagnetized in Albian-Aptian.\n",
      "24 AF to 60mT, thermal to 550C, characteristic component.\n",
      "25 AF to 60mT, thermal to 550C, characteristic component.\n",
      "26 Pliensbachian to Callovian age. Thermal to 650C. Js-T (CT 100, 650C) , OP (GOETH, HEM, MAGN) , SUSC, AN. Late Cretaceous magnetization.\n",
      "27 Pliensbachian to Callovian age. Thermal to 650C. Js-T (CT 100, 650C) , OP (GOETH, HEM, MAGN) , SUSC, AN. Late Cretaceous magnetization.\n",
      "28 Pliensbachian to Callovian age. Thermal to 650C. Js-T (CT 100, 650C) , OP (GOETH, HEM, MAGN) , SUSC, AN. Late Cretaceous magnetization.\n",
      "33 Fransian - Famennian. Thermal, characteristic component, 500-610C. IRM, 3-axis Jrs-T (HEM, MAGN). Late Jurassic - Early Cretaceous remagnetisation suggested.\n",
      "34 Middle to Late Oxfordian. Moneva S Comp. . Thermal to 580C, intermediate component 350-450C. SUSC. Overprint in Cretaceous Normal Zone.\n",
      "35 Middle to Late Oxfordian. Moneva S Comp. . Thermal to 580C, intermediate component 350-450C. SUSC. Overprint in Cretaceous Normal Zone.\n",
      "41 Thermal to 560C, characteristic component. IRM (MAGN, HEM) ; SUSC; AN.\n",
      "42 Thermal to 560C, characteristic component. IRM (MAGN, HEM) ; SUSC; AN.\n",
      "43 Senonian age. AF 35-100mT, thermal 300-640C, characteristic component. Includes data from REFNO 2670.\n",
      "44 Senonian age. AF 35-100mT, thermal 300-640C, characteristic component. Includes data from REFNO 2670.\n",
      "45 Senonian age. AF 35-100mT, thermal 300-640C, characteristic component. Includes data from REFNO 2670.\n",
      "46 Senonian age. AF 35-100mT, thermal 300-640C, characteristic component. Includes data from REFNO 2670.\n",
      "58 Late Turonian to Santonian. Thermal to 580C, characteristic component.\n",
      "59 Late Turonian to Santonian. Thermal to 580C, characteristic component.\n",
      "82 Berriasian to Barremian. Group 2. Thermal to 500C, characteristic component 250-500C. IRM (sat. 0. 4T) ; HYST. Remagnetized in Albian-Aptian.\n",
      "83 Berriasian to Barremian. Group 2. Thermal to 500C, characteristic component 250-500C. IRM (sat. 0. 4T) ; HYST. Remagnetized in Albian-Aptian.\n",
      "84 Cenomanian to Coniacian. Thermal to 500C, characteristic component 250-500C. IRM (sat. 0. 4T) ; HYST.\n",
      "85 Cenomanian to Coniacian. Thermal to 500C, characteristic component 250-500C. IRM (sat. 0. 4T) ; HYST.\n",
      "116 Spathian to Anisian age. B Component. Thermal to 680C. component 300-600C. Late Cretaceous to Eocene overprint suggested.\n",
      "117 Spathian to Anisian age. B Component. Thermal to 680C. component 300-600C. Late Cretaceous to Eocene overprint suggested.\n",
      "118 Spathian to Anisian age. B Component. Thermal to 680C. component 300-600C. Late Cretaceous to Eocene overprint suggested.\n",
      "120 Upper Jurassic. Miocene orogenesis. Overprint. Thermal, characteristic component 500-630C. Secondary component from REFNO 3413 included.\n",
      "121 Upper Jurassic. Miocene orogenesis. Overprint. Thermal, characteristic component 500-630C. Secondary component from REFNO 3413 included.\n",
      "122 Upper Jurassic. Miocene orogenesis. Overprint. Thermal, characteristic component 500-630C. Secondary component from REFNO 3413 included.\n",
      "123 Applecross Formation. Eishort anticline. Secondary. AF to 180mT, thermal to 700C. Early Tertiary overprint from Skye dykes.\n",
      "124 Applecross Formation. Eishort anticline. Secondary. AF to 180mT, thermal to 700C. Early Tertiary overprint from Skye dykes.\n",
      "125 Applecross Formation. Eishort anticline. Secondary. AF to 180mT, thermal to 700C. Early Tertiary overprint from Skye dykes.\n",
      "139 C Component. AF to 100mT, thermal to 600C, characteristic component. IRM (sat. 0. 3T or no sat. 0. 9T). Tertiary age of mineralization. Conglomerate Test Parameters: Clasts not random. Conglomerate Test Significance: NO.\n",
      "142 Middle - Upper Triassic. B syn-folding. Thermal, characteristic component 400-580C. SUSC-T (HEM, MAGN). intersection of small circles applied. method of intersecting of small circles applied.\n",
      "143 Middle - Upper Triassic. B syn-folding. Thermal, characteristic component 400-580C. SUSC-T (HEM, MAGN). intersection of small circles applied. method of intersecting of small circles applied.\n",
      "144 Middle - Upper Triassic. B syn-folding. Thermal, characteristic component 400-580C. SUSC-T (HEM, MAGN). intersection of small circles applied. method of intersecting of small circles applied.\n",
      "150 Cenomanian to Turonian. Thermal to 580C, AF to 135mT, characteristic component. IRM (sat. 0. 2T, no sat. 2T) , SUSC (vs Temp). Mean of three localities calculated (12 sites).\n",
      "151 Cenomanian to Turonian. Thermal to 580C, AF to 135mT, characteristic component. IRM (sat. 0. 2T, no sat. 2T) , SUSC (vs Temp). Mean of three localities calculated (12 sites).\n",
      "156 Kimmeridgian and Potlandian, petroleum impregnated. Thermal to 600C, mostly AF to 90mT, high temp. high coer. comp. . IRM (sat. 0. 2T) ; HYST. Late Cretaceous to Early Tertiary age.\n",
      "157 Kimmeridgian and Potlandian, petroleum impregnated. Thermal to 600C, mostly AF to 90mT, high temp. high coer. comp. . IRM (sat. 0. 2T) ; HYST. Late Cretaceous to Early Tertiary age.\n",
      "158 Kimmeridgian and Potlandian, petroleum impregnated. Thermal to 600C, mostly AF to 90mT, high temp. high coer. comp. . IRM (sat. 0. 2T) ; HYST. Late Cretaceous to Early Tertiary age.\n",
      "197 AF to 60mT, thermal to 550C, characteristic component. IRM (sat. 0. 2T).\n",
      "198 AF to 60mT, thermal to 550C, characteristic component. IRM (sat. 0. 2T).\n",
      "199 Albian - Cenomanian. AF and thermal, characteristic component, 400-600C, 20-100mT. IRM, SUSC-T, 3-axis Jrs-T (MAGN). Some data from RESULTNOS 6206, 6207, 8191 are included.\n",
      "200 Albian - Cenomanian. AF and thermal, characteristic component, 400-600C, 20-100mT. IRM, SUSC-T, 3-axis Jrs-T (MAGN). Some data from RESULTNOS 6206, 6207, 8191 are included.\n",
      "204 Middle to Late Oxfordian. Aguaton S Comp. . Thermal to 580C, intermediate component 350-450C. SUSC. Overprint in Cretaceous Normal Zone.\n",
      "205 Middle to Late Oxfordian. Aguaton S Comp. . Thermal to 580C, intermediate component 350-450C. SUSC. Overprint in Cretaceous Normal Zone.\n",
      "216 Fransian - Famennian. Thermal, characteristic component, 500-610C. IRM, 3-axis Jrs-T (HEM, MAGN). Late Jurassic - Early Cretaceous remagnetisation suggested.\n",
      "100 Carboniferous to Triassic. Extent 50 km. outcrops and boreholes. C Component. Thermal 100-300C+AF 35-40mT (sulphides) , 390-650C (other rocks). SUSC-T (MAGN). Early to Middle Eocene overprint.\n",
      "101 Carboniferous to Triassic. Extent 50 km. outcrops and boreholes. C Component. Thermal 100-300C+AF 35-40mT (sulphides) , 390-650C (other rocks). SUSC-T (MAGN). Early to Middle Eocene overprint.\n",
      "102 Carboniferous to Triassic. Extent 50 km. outcrops and boreholes. C Component. Thermal 100-300C+AF 35-40mT (sulphides) , 390-650C (other rocks). SUSC-T (MAGN). Early to Middle Eocene overprint.\n"
     ]
    }
   ],
   "source": [
    "for ind in best_poles.index:\n",
    "    print (ind, best_poles.loc[ind].description)"
   ]
  },
  {
   "cell_type": "markdown",
   "metadata": {},
   "source": [
    "Now we want to thumb through the  descriptions and eliminate the kind we don't want.  For example, if we make a list of unwanted descriptors (verprint, emagneti, uperseded, Data incl. in RESULTNOS), from the above list,  we can eliminate those. "
   ]
  },
  {
   "cell_type": "code",
   "execution_count": 67,
   "metadata": {},
   "outputs": [
    {
     "name": "stdout",
     "output_type": "stream",
     "text": [
      "1 Upper Hauterivian to Albian. Extent Thickness 117m. Thermal to 575C, AF to 100mT, characteristic component.\n",
      "2 Upper Hauterivian to Albian. Extent Thickness 117m. Thermal to 575C, AF to 100mT, characteristic component.\n",
      "3 Upper Hauterivian to Albian. Extent Thickness 117m. Thermal to 575C, AF to 100mT, characteristic component.\n",
      "4 Upper Hauterivian to Albian. Extent Thickness 117m. Thermal to 575C, AF to 100mT, characteristic component.\n",
      "14 Aptian to Albian. Thermal to 500C, characteristic component 250-500C. IRM (sat. 0. 4T) ; HYST.\n",
      "15 Aptian to Albian. Thermal to 500C, characteristic component 250-500C. IRM (sat. 0. 4T) ; HYST.\n",
      "24 AF to 60mT, thermal to 550C, characteristic component.\n",
      "25 AF to 60mT, thermal to 550C, characteristic component.\n",
      "26 Pliensbachian to Callovian age. Thermal to 650C. Js-T (CT 100, 650C) , OP (GOETH, HEM, MAGN) , SUSC, AN. Late Cretaceous magnetization.\n",
      "27 Pliensbachian to Callovian age. Thermal to 650C. Js-T (CT 100, 650C) , OP (GOETH, HEM, MAGN) , SUSC, AN. Late Cretaceous magnetization.\n",
      "28 Pliensbachian to Callovian age. Thermal to 650C. Js-T (CT 100, 650C) , OP (GOETH, HEM, MAGN) , SUSC, AN. Late Cretaceous magnetization.\n",
      "41 Thermal to 560C, characteristic component. IRM (MAGN, HEM) ; SUSC; AN.\n",
      "42 Thermal to 560C, characteristic component. IRM (MAGN, HEM) ; SUSC; AN.\n",
      "43 Senonian age. AF 35-100mT, thermal 300-640C, characteristic component. Includes data from REFNO 2670.\n",
      "44 Senonian age. AF 35-100mT, thermal 300-640C, characteristic component. Includes data from REFNO 2670.\n",
      "45 Senonian age. AF 35-100mT, thermal 300-640C, characteristic component. Includes data from REFNO 2670.\n",
      "46 Senonian age. AF 35-100mT, thermal 300-640C, characteristic component. Includes data from REFNO 2670.\n",
      "58 Late Turonian to Santonian. Thermal to 580C, characteristic component.\n",
      "59 Late Turonian to Santonian. Thermal to 580C, characteristic component.\n",
      "84 Cenomanian to Coniacian. Thermal to 500C, characteristic component 250-500C. IRM (sat. 0. 4T) ; HYST.\n",
      "85 Cenomanian to Coniacian. Thermal to 500C, characteristic component 250-500C. IRM (sat. 0. 4T) ; HYST.\n",
      "139 C Component. AF to 100mT, thermal to 600C, characteristic component. IRM (sat. 0. 3T or no sat. 0. 9T). Tertiary age of mineralization. Conglomerate Test Parameters: Clasts not random. Conglomerate Test Significance: NO.\n",
      "142 Middle - Upper Triassic. B syn-folding. Thermal, characteristic component 400-580C. SUSC-T (HEM, MAGN). intersection of small circles applied. method of intersecting of small circles applied.\n",
      "143 Middle - Upper Triassic. B syn-folding. Thermal, characteristic component 400-580C. SUSC-T (HEM, MAGN). intersection of small circles applied. method of intersecting of small circles applied.\n",
      "144 Middle - Upper Triassic. B syn-folding. Thermal, characteristic component 400-580C. SUSC-T (HEM, MAGN). intersection of small circles applied. method of intersecting of small circles applied.\n",
      "150 Cenomanian to Turonian. Thermal to 580C, AF to 135mT, characteristic component. IRM (sat. 0. 2T, no sat. 2T) , SUSC (vs Temp). Mean of three localities calculated (12 sites).\n",
      "151 Cenomanian to Turonian. Thermal to 580C, AF to 135mT, characteristic component. IRM (sat. 0. 2T, no sat. 2T) , SUSC (vs Temp). Mean of three localities calculated (12 sites).\n",
      "156 Kimmeridgian and Potlandian, petroleum impregnated. Thermal to 600C, mostly AF to 90mT, high temp. high coer. comp. . IRM (sat. 0. 2T) ; HYST. Late Cretaceous to Early Tertiary age.\n",
      "157 Kimmeridgian and Potlandian, petroleum impregnated. Thermal to 600C, mostly AF to 90mT, high temp. high coer. comp. . IRM (sat. 0. 2T) ; HYST. Late Cretaceous to Early Tertiary age.\n",
      "158 Kimmeridgian and Potlandian, petroleum impregnated. Thermal to 600C, mostly AF to 90mT, high temp. high coer. comp. . IRM (sat. 0. 2T) ; HYST. Late Cretaceous to Early Tertiary age.\n",
      "197 AF to 60mT, thermal to 550C, characteristic component. IRM (sat. 0. 2T).\n",
      "198 AF to 60mT, thermal to 550C, characteristic component. IRM (sat. 0. 2T).\n",
      "199 Albian - Cenomanian. AF and thermal, characteristic component, 400-600C, 20-100mT. IRM, SUSC-T, 3-axis Jrs-T (MAGN). Some data from RESULTNOS 6206, 6207, 8191 are included.\n",
      "200 Albian - Cenomanian. AF and thermal, characteristic component, 400-600C, 20-100mT. IRM, SUSC-T, 3-axis Jrs-T (MAGN). Some data from RESULTNOS 6206, 6207, 8191 are included.\n"
     ]
    }
   ],
   "source": [
    "Unwanted=['verprint','econdary','emagneti','uperseded','Data incl. in RESULT'] # verprint includes both Overprint and overprint\n",
    "# make a column for \"Use\" in best_poles and set to True\n",
    "best_poles['Use']=True\n",
    "# now go through and flag the bad boys\n",
    "for deleteme in Unwanted:\n",
    "    best_poles.loc[best_poles.description.str.contains(deleteme),'Use']='False'\n",
    "selected_poles=best_poles[best_poles.Use==True]\n",
    "for ind in selected_poles.index:\n",
    "    print (ind, selected_poles.loc[ind].description)\n",
    "\n"
   ]
  },
  {
   "cell_type": "markdown",
   "metadata": {},
   "source": [
    "Here's a list of all the locations we have"
   ]
  },
  {
   "cell_type": "code",
   "execution_count": 68,
   "metadata": {},
   "outputs": [
    {
     "data": {
      "text/plain": [
       "1                                       Cismon Section\n",
       "2                                       Cismon Section\n",
       "3                                       Cismon Section\n",
       "4                                       Cismon Section\n",
       "14                     Organya Aptian-Albian Sediments\n",
       "15                     Organya Aptian-Albian Sediments\n",
       "24                         Lower Cretaceous Limestones\n",
       "25                         Lower Cretaceous Limestones\n",
       "26                        Bulgarian Jurassic Sediments\n",
       "27                        Bulgarian Jurassic Sediments\n",
       "28                        Bulgarian Jurassic Sediments\n",
       "41                     Scaglia Formation, Marsica Area\n",
       "42                     Scaglia Formation, Marsica Area\n",
       "43                                       Scaglia Rossa\n",
       "44                                       Scaglia Rossa\n",
       "45                                       Scaglia Rossa\n",
       "46                                       Scaglia Rossa\n",
       "58                                 Lower Scaglia Rossa\n",
       "59                                 Lower Scaglia Rossa\n",
       "84              Organya Cenomanian-Coniacian Sediments\n",
       "85              Organya Cenomanian-Coniacian Sediments\n",
       "139                      Muschelkalk Formation, Comp.C\n",
       "142                       Bulgarian Triassic Carbonate\n",
       "143                       Bulgarian Triassic Carbonate\n",
       "144                       Bulgarian Triassic Carbonate\n",
       "150                                 Apulian Limestones\n",
       "151                                 Apulian Limestones\n",
       "156                               Asphaltkalk Deposits\n",
       "157                               Asphaltkalk Deposits\n",
       "158                               Asphaltkalk Deposits\n",
       "197                        Upper Cretaceous Limestones\n",
       "198                        Upper Cretaceous Limestones\n",
       "199    Lusitanian, Algarve Basins Cretaceous Sediments\n",
       "200    Lusitanian, Algarve Basins Cretaceous Sediments\n",
       "Name: location, dtype: object"
      ]
     },
     "execution_count": 68,
     "metadata": {},
     "output_type": "execute_result"
    }
   ],
   "source": [
    "selected_poles.location"
   ]
  },
  {
   "cell_type": "markdown",
   "metadata": {},
   "source": [
    "Oops.  Looks like we have a lot of duplicates in our 'selected' pole list.  So to verify, let's look at the latitudes and longitudes: \n"
   ]
  },
  {
   "cell_type": "code",
   "execution_count": 69,
   "metadata": {},
   "outputs": [
    {
     "data": {
      "text/html": [
       "<div>\n",
       "<style scoped>\n",
       "    .dataframe tbody tr th:only-of-type {\n",
       "        vertical-align: middle;\n",
       "    }\n",
       "\n",
       "    .dataframe tbody tr th {\n",
       "        vertical-align: top;\n",
       "    }\n",
       "\n",
       "    .dataframe thead th {\n",
       "        text-align: right;\n",
       "    }\n",
       "</style>\n",
       "<table border=\"1\" class=\"dataframe\">\n",
       "  <thead>\n",
       "    <tr style=\"text-align: right;\">\n",
       "      <th></th>\n",
       "      <th>pole_lat</th>\n",
       "      <th>pole_lon</th>\n",
       "    </tr>\n",
       "  </thead>\n",
       "  <tbody>\n",
       "    <tr>\n",
       "      <th>1</th>\n",
       "      <td>44.2</td>\n",
       "      <td>257.3</td>\n",
       "    </tr>\n",
       "    <tr>\n",
       "      <th>2</th>\n",
       "      <td>44.2</td>\n",
       "      <td>257.3</td>\n",
       "    </tr>\n",
       "    <tr>\n",
       "      <th>3</th>\n",
       "      <td>44.2</td>\n",
       "      <td>257.3</td>\n",
       "    </tr>\n",
       "    <tr>\n",
       "      <th>4</th>\n",
       "      <td>44.2</td>\n",
       "      <td>257.3</td>\n",
       "    </tr>\n",
       "    <tr>\n",
       "      <th>14</th>\n",
       "      <td>77.1</td>\n",
       "      <td>233.9</td>\n",
       "    </tr>\n",
       "    <tr>\n",
       "      <th>15</th>\n",
       "      <td>77.1</td>\n",
       "      <td>233.9</td>\n",
       "    </tr>\n",
       "    <tr>\n",
       "      <th>24</th>\n",
       "      <td>70.0</td>\n",
       "      <td>192.0</td>\n",
       "    </tr>\n",
       "    <tr>\n",
       "      <th>25</th>\n",
       "      <td>70.0</td>\n",
       "      <td>192.0</td>\n",
       "    </tr>\n",
       "    <tr>\n",
       "      <th>26</th>\n",
       "      <td>77.0</td>\n",
       "      <td>313.0</td>\n",
       "    </tr>\n",
       "    <tr>\n",
       "      <th>27</th>\n",
       "      <td>77.0</td>\n",
       "      <td>313.0</td>\n",
       "    </tr>\n",
       "    <tr>\n",
       "      <th>28</th>\n",
       "      <td>77.0</td>\n",
       "      <td>313.0</td>\n",
       "    </tr>\n",
       "    <tr>\n",
       "      <th>41</th>\n",
       "      <td>73.0</td>\n",
       "      <td>203.0</td>\n",
       "    </tr>\n",
       "    <tr>\n",
       "      <th>42</th>\n",
       "      <td>73.0</td>\n",
       "      <td>203.0</td>\n",
       "    </tr>\n",
       "    <tr>\n",
       "      <th>43</th>\n",
       "      <td>63.4</td>\n",
       "      <td>220.2</td>\n",
       "    </tr>\n",
       "    <tr>\n",
       "      <th>44</th>\n",
       "      <td>63.4</td>\n",
       "      <td>220.2</td>\n",
       "    </tr>\n",
       "    <tr>\n",
       "      <th>45</th>\n",
       "      <td>63.4</td>\n",
       "      <td>220.2</td>\n",
       "    </tr>\n",
       "    <tr>\n",
       "      <th>46</th>\n",
       "      <td>63.4</td>\n",
       "      <td>220.2</td>\n",
       "    </tr>\n",
       "    <tr>\n",
       "      <th>58</th>\n",
       "      <td>49.5</td>\n",
       "      <td>271.1</td>\n",
       "    </tr>\n",
       "    <tr>\n",
       "      <th>59</th>\n",
       "      <td>49.5</td>\n",
       "      <td>271.1</td>\n",
       "    </tr>\n",
       "    <tr>\n",
       "      <th>84</th>\n",
       "      <td>85.1</td>\n",
       "      <td>242.1</td>\n",
       "    </tr>\n",
       "    <tr>\n",
       "      <th>85</th>\n",
       "      <td>85.1</td>\n",
       "      <td>242.1</td>\n",
       "    </tr>\n",
       "    <tr>\n",
       "      <th>139</th>\n",
       "      <td>86.9</td>\n",
       "      <td>164.7</td>\n",
       "    </tr>\n",
       "    <tr>\n",
       "      <th>142</th>\n",
       "      <td>72.8</td>\n",
       "      <td>128.1</td>\n",
       "    </tr>\n",
       "    <tr>\n",
       "      <th>143</th>\n",
       "      <td>72.8</td>\n",
       "      <td>128.1</td>\n",
       "    </tr>\n",
       "    <tr>\n",
       "      <th>144</th>\n",
       "      <td>72.8</td>\n",
       "      <td>128.1</td>\n",
       "    </tr>\n",
       "    <tr>\n",
       "      <th>150</th>\n",
       "      <td>56.0</td>\n",
       "      <td>261.0</td>\n",
       "    </tr>\n",
       "    <tr>\n",
       "      <th>151</th>\n",
       "      <td>56.0</td>\n",
       "      <td>261.0</td>\n",
       "    </tr>\n",
       "    <tr>\n",
       "      <th>156</th>\n",
       "      <td>75.8</td>\n",
       "      <td>159.4</td>\n",
       "    </tr>\n",
       "    <tr>\n",
       "      <th>157</th>\n",
       "      <td>75.8</td>\n",
       "      <td>159.4</td>\n",
       "    </tr>\n",
       "    <tr>\n",
       "      <th>158</th>\n",
       "      <td>75.8</td>\n",
       "      <td>159.4</td>\n",
       "    </tr>\n",
       "    <tr>\n",
       "      <th>197</th>\n",
       "      <td>53.0</td>\n",
       "      <td>136.0</td>\n",
       "    </tr>\n",
       "    <tr>\n",
       "      <th>198</th>\n",
       "      <td>53.0</td>\n",
       "      <td>136.0</td>\n",
       "    </tr>\n",
       "    <tr>\n",
       "      <th>199</th>\n",
       "      <td>70.0</td>\n",
       "      <td>253.0</td>\n",
       "    </tr>\n",
       "    <tr>\n",
       "      <th>200</th>\n",
       "      <td>70.0</td>\n",
       "      <td>253.0</td>\n",
       "    </tr>\n",
       "  </tbody>\n",
       "</table>\n",
       "</div>"
      ],
      "text/plain": [
       "     pole_lat  pole_lon\n",
       "1        44.2     257.3\n",
       "2        44.2     257.3\n",
       "3        44.2     257.3\n",
       "4        44.2     257.3\n",
       "14       77.1     233.9\n",
       "15       77.1     233.9\n",
       "24       70.0     192.0\n",
       "25       70.0     192.0\n",
       "26       77.0     313.0\n",
       "27       77.0     313.0\n",
       "28       77.0     313.0\n",
       "41       73.0     203.0\n",
       "42       73.0     203.0\n",
       "43       63.4     220.2\n",
       "44       63.4     220.2\n",
       "45       63.4     220.2\n",
       "46       63.4     220.2\n",
       "58       49.5     271.1\n",
       "59       49.5     271.1\n",
       "84       85.1     242.1\n",
       "85       85.1     242.1\n",
       "139      86.9     164.7\n",
       "142      72.8     128.1\n",
       "143      72.8     128.1\n",
       "144      72.8     128.1\n",
       "150      56.0     261.0\n",
       "151      56.0     261.0\n",
       "156      75.8     159.4\n",
       "157      75.8     159.4\n",
       "158      75.8     159.4\n",
       "197      53.0     136.0\n",
       "198      53.0     136.0\n",
       "199      70.0     253.0\n",
       "200      70.0     253.0"
      ]
     },
     "execution_count": 69,
     "metadata": {},
     "output_type": "execute_result"
    }
   ],
   "source": [
    "selected_poles[['pole_lat','pole_lon']]"
   ]
  },
  {
   "cell_type": "markdown",
   "metadata": {},
   "source": [
    "And yeah, there are a lot of duplicates.  So we want a unique list of poles.  I can use the Pandas drop_duplicates function!"
   ]
  },
  {
   "cell_type": "code",
   "execution_count": 71,
   "metadata": {},
   "outputs": [
    {
     "data": {
      "text/html": [
       "<div>\n",
       "<style scoped>\n",
       "    .dataframe tbody tr th:only-of-type {\n",
       "        vertical-align: middle;\n",
       "    }\n",
       "\n",
       "    .dataframe tbody tr th {\n",
       "        vertical-align: top;\n",
       "    }\n",
       "\n",
       "    .dataframe thead th {\n",
       "        text-align: right;\n",
       "    }\n",
       "</style>\n",
       "<table border=\"1\" class=\"dataframe\">\n",
       "  <thead>\n",
       "    <tr style=\"text-align: right;\">\n",
       "      <th></th>\n",
       "      <th>pole_lat</th>\n",
       "      <th>pole_lon</th>\n",
       "    </tr>\n",
       "  </thead>\n",
       "  <tbody>\n",
       "    <tr>\n",
       "      <th>1</th>\n",
       "      <td>44.2</td>\n",
       "      <td>257.3</td>\n",
       "    </tr>\n",
       "    <tr>\n",
       "      <th>14</th>\n",
       "      <td>77.1</td>\n",
       "      <td>233.9</td>\n",
       "    </tr>\n",
       "    <tr>\n",
       "      <th>24</th>\n",
       "      <td>70.0</td>\n",
       "      <td>192.0</td>\n",
       "    </tr>\n",
       "    <tr>\n",
       "      <th>26</th>\n",
       "      <td>77.0</td>\n",
       "      <td>313.0</td>\n",
       "    </tr>\n",
       "    <tr>\n",
       "      <th>41</th>\n",
       "      <td>73.0</td>\n",
       "      <td>203.0</td>\n",
       "    </tr>\n",
       "    <tr>\n",
       "      <th>43</th>\n",
       "      <td>63.4</td>\n",
       "      <td>220.2</td>\n",
       "    </tr>\n",
       "    <tr>\n",
       "      <th>58</th>\n",
       "      <td>49.5</td>\n",
       "      <td>271.1</td>\n",
       "    </tr>\n",
       "    <tr>\n",
       "      <th>84</th>\n",
       "      <td>85.1</td>\n",
       "      <td>242.1</td>\n",
       "    </tr>\n",
       "    <tr>\n",
       "      <th>139</th>\n",
       "      <td>86.9</td>\n",
       "      <td>164.7</td>\n",
       "    </tr>\n",
       "    <tr>\n",
       "      <th>142</th>\n",
       "      <td>72.8</td>\n",
       "      <td>128.1</td>\n",
       "    </tr>\n",
       "    <tr>\n",
       "      <th>150</th>\n",
       "      <td>56.0</td>\n",
       "      <td>261.0</td>\n",
       "    </tr>\n",
       "    <tr>\n",
       "      <th>156</th>\n",
       "      <td>75.8</td>\n",
       "      <td>159.4</td>\n",
       "    </tr>\n",
       "    <tr>\n",
       "      <th>197</th>\n",
       "      <td>53.0</td>\n",
       "      <td>136.0</td>\n",
       "    </tr>\n",
       "    <tr>\n",
       "      <th>199</th>\n",
       "      <td>70.0</td>\n",
       "      <td>253.0</td>\n",
       "    </tr>\n",
       "  </tbody>\n",
       "</table>\n",
       "</div>"
      ],
      "text/plain": [
       "     pole_lat  pole_lon\n",
       "1        44.2     257.3\n",
       "14       77.1     233.9\n",
       "24       70.0     192.0\n",
       "26       77.0     313.0\n",
       "41       73.0     203.0\n",
       "43       63.4     220.2\n",
       "58       49.5     271.1\n",
       "84       85.1     242.1\n",
       "139      86.9     164.7\n",
       "142      72.8     128.1\n",
       "150      56.0     261.0\n",
       "156      75.8     159.4\n",
       "197      53.0     136.0\n",
       "199      70.0     253.0"
      ]
     },
     "execution_count": 71,
     "metadata": {},
     "output_type": "execute_result"
    }
   ],
   "source": [
    "selected_poles=selected_poles.drop_duplicates(['pole_lat','pole_lon'])\n",
    "selected_poles[['pole_lat','pole_lon']]"
   ]
  },
  {
   "cell_type": "markdown",
   "metadata": {},
   "source": [
    "Now we have a pared down list of poles.  "
   ]
  },
  {
   "cell_type": "markdown",
   "metadata": {},
   "source": [
    "## Problem 4c:"
   ]
  },
  {
   "cell_type": "markdown",
   "metadata": {},
   "source": [
    "We have to use the functions **frp.get_pole** and **pmag.pt_rot** as in Problem 3.  "
   ]
  },
  {
   "cell_type": "code",
   "execution_count": 73,
   "metadata": {},
   "outputs": [
    {
     "name": "stdout",
     "output_type": "stream",
     "text": [
      "Help on function get_pole in module pmagpy.frp:\n",
      "\n",
      "get_pole(continent, age)\n",
      "    returns rotation poles and angles for specified continents and ages\n",
      "    assumes fixed Africa.  \n",
      "    Parameters\n",
      "    __________\n",
      "        continent : \n",
      "            aus : Australia\n",
      "            eur : Eurasia\n",
      "            mad : Madacascar\n",
      "            [nwaf,congo] : NW Africa  [choose one]\n",
      "            col :  Colombia\n",
      "            grn : Greenland\n",
      "            nam : North America\n",
      "            par : Paraguay\n",
      "            eant :  East Antarctica\n",
      "            ind : India\n",
      "            [neaf,kala] : NE Africa [choose one]\n",
      "            [sac,sam] :  South America [choose one]\n",
      "            ib : Iberia\n",
      "            saf : South Africa\n",
      "      Returns\n",
      "      _______\n",
      "          [pole longitude, pole latitude, rotation angle] : for the continent at specified age\n",
      "\n"
     ]
    }
   ],
   "source": [
    "help(frp.get_pole)"
   ]
  },
  {
   "cell_type": "code",
   "execution_count": 77,
   "metadata": {},
   "outputs": [
    {
     "name": "stdout",
     "output_type": "stream",
     "text": [
      "[40.2, -12.5, 28.5] [70.0, -24.0, 40.2]\n"
     ]
    }
   ],
   "source": [
    "Prot_eur_af=frp.get_pole('eur',100)\n",
    "Prot_nam_af=frp.get_pole('nam',100)\n",
    "print (Prot_eur_af,Prot_nam_af)"
   ]
  },
  {
   "cell_type": "code",
   "execution_count": 72,
   "metadata": {},
   "outputs": [
    {
     "name": "stdout",
     "output_type": "stream",
     "text": [
      "Help on function pt_rot in module pmagpy.pmag:\n",
      "\n",
      "pt_rot(EP, Lats, Lons)\n",
      "    Rotates points on a globe by an Euler pole rotation using method of\n",
      "    Cox and Hart 1986, box 7-3.\n",
      "    \n",
      "    Parameters\n",
      "    ----------\n",
      "    EP : Euler pole list [lat,lon,angle]\n",
      "    Lats : list of latitudes of points to be rotated\n",
      "    Lons : list of longitudes of points to be rotated\n",
      "    \n",
      "    Returns\n",
      "    _________\n",
      "    RLats : rotated latitudes\n",
      "    RLons : rotated longitudes\n",
      "\n"
     ]
    }
   ],
   "source": [
    "help(pmag.pt_rot)"
   ]
  },
  {
   "cell_type": "code",
   "execution_count": 78,
   "metadata": {},
   "outputs": [],
   "source": [
    "lats=selected_poles.pole_lat.values # array of pole latitudes for Europe\n",
    "lons=selected_poles.pole_lon.values # same for longitudes\n",
    "RLats_rot2af,RLons_rot2af=pmag.pt_rot(Prot_eur_af,lats,lons) # rotate to fixed Africa\n",
    "Prot_af_nam=Prot_nam_af[:] # make a copy\n",
    "Prot_af_nam[2]=-Prot_af_nam[2] # quick change of rotation sense (from AF to NAM)\n",
    "#rotate to North America\n",
    "RLats_rot2nam,RLons_rot2nam=pmag.pt_rot(Prot_af_nam,RLats_rot2af,RLons_rot2af)"
   ]
  },
  {
   "cell_type": "markdown",
   "metadata": {},
   "source": [
    "We can plot that file using **ipmag.plot_vgp** function (similar to in Chapter 14).  So, we need to import the Basemap function from mpl_toolkits (you might have to install this)."
   ]
  },
  {
   "cell_type": "code",
   "execution_count": 79,
   "metadata": {},
   "outputs": [],
   "source": [
    "from mpl_toolkits.basemap import Basemap"
   ]
  },
  {
   "cell_type": "markdown",
   "metadata": {},
   "source": [
    "Now we need to do two things:  1) read in the file _selected_poles.rot_ and 2) figure out what the pole for North America was.  First the latter.  I can use the program apwp.py for this, but I have to put in dummy lat and lon keys and ignore the Paleolat, Dec, Inc output and zoom in on the Pole_lat Pole_long output. "
   ]
  },
  {
   "cell_type": "code",
   "execution_count": 80,
   "metadata": {},
   "outputs": [
    {
     "name": "stdout",
     "output_type": "stream",
     "text": [
      "Help on function apwp in module pmagpy.pmag:\n",
      "\n",
      "apwp(data, print_results=False)\n",
      "    calculates expected pole positions and directions for given plate, location and age\n",
      "    Parameters \n",
      "    _________\n",
      "        data : [plate,lat,lon,age]\n",
      "        print_results : if True will print out nicely formatted results\n",
      "    Returns\n",
      "    _________\n",
      "        if print_results is False, [Age,Paleolat, Dec, Inc, Pole_lat, Pole_lon]\n",
      "\n"
     ]
    }
   ],
   "source": [
    "help(pmag.apwp)"
   ]
  },
  {
   "cell_type": "code",
   "execution_count": 81,
   "metadata": {},
   "outputs": [
    {
     "name": "stdout",
     "output_type": "stream",
     "text": [
      "81.53 198.27\n"
     ]
    }
   ],
   "source": [
    "pole_stuff=pmag.apwp(['NA',33,-117,100])\n",
    "NApole_lat,NApole_lon=pole_stuff[4],pole_stuff[5]\n",
    "print (NApole_lat,NApole_lon)"
   ]
  },
  {
   "cell_type": "markdown",
   "metadata": {},
   "source": [
    "So the North American pole was 81.5N/198.3E at 100 Ma."
   ]
  },
  {
   "cell_type": "markdown",
   "metadata": {},
   "source": [
    "And we plot the stuff:  "
   ]
  },
  {
   "cell_type": "code",
   "execution_count": 83,
   "metadata": {},
   "outputs": [
    {
     "data": {
      "image/png": "[encoded data removed]",
      "text/plain": [
       "<matplotlib.figure.Figure at 0x118bff0b8>"
      ]
     },
     "metadata": {},
     "output_type": "display_data"
    }
   ],
   "source": [
    "m=Basemap(projection='ortho',lat_0=90,lon_0=0,resolution='c')\n",
    "plt.figure(num=3,figsize=(6,6))\n",
    "m.drawcoastlines()\n",
    "m.fillcontinents(color='bisque')\n",
    "m.drawmeridians(np.arange(0,360,30))\n",
    "m.drawparallels(np.arange(-60,90,30))\n",
    "ipmag.plot_vgp(m,RLons_rot2nam,RLats_rot2nam,\\\n",
    "               color='b',label='rotated European poles',legend='yes')\n",
    "ipmag.plot_vgp(m,[NApole_lon],[NApole_lat], color='r',\\\n",
    "               label='NA Pole',marker='^',legend='yes')"
   ]
  },
  {
   "cell_type": "markdown",
   "metadata": {},
   "source": [
    "Boy that is super crappy agreement!  The European poles are pretty scattered and a lot are 'far sided'.  A lot of them are sediments.  I wonder whether we have an 'inclination shallowing' problem.  You can't tell because we only have the poles - not the original data.  So someone should get to work on this problem. "
   ]
  },
  {
   "cell_type": "markdown",
   "metadata": {},
   "source": [
    "## Problem 4d:"
   ]
  },
  {
   "cell_type": "markdown",
   "metadata": {},
   "source": [
    "For this we need the blessed **continents.get_continent** and **pmagplotlib.plot_map** functions.  So first, let's take it them for a spin."
   ]
  },
  {
   "cell_type": "code",
   "execution_count": 110,
   "metadata": {},
   "outputs": [
    {
     "name": "stdout",
     "output_type": "stream",
     "text": [
      "Help on function get_continent in module pmagpy.continents:\n",
      "\n",
      "get_continent(continent)\n",
      "    get_continent(continent)\n",
      "    returns the outlines of specified continent.\n",
      "    \n",
      "    Parameters:\n",
      "    ____________________\n",
      "    continent:\n",
      "        af : Africa\n",
      "        congo : Congo\n",
      "        kala : Kalahari\n",
      "        aus : Australia\n",
      "        balt : Baltica\n",
      "        eur : Eurasia\n",
      "        ind : India\n",
      "        sam : South America\n",
      "        ant : Antarctica\n",
      "        grn : Greenland\n",
      "        lau : Laurentia\n",
      "        nam : North America\n",
      "        gond : Gondawanaland\n",
      "    Returns : \n",
      "        array of [lat/long] points defining continent\n",
      "\n"
     ]
    }
   ],
   "source": [
    "import pmagpy.continents as continent\n",
    "help (continent.get_continent)"
   ]
  },
  {
   "cell_type": "code",
   "execution_count": 88,
   "metadata": {},
   "outputs": [
    {
     "name": "stdout",
     "output_type": "stream",
     "text": [
      "Help on function plot_map in module pmagpy.pmagplotlib:\n",
      "\n",
      "plot_map(fignum, lats, lons, Opts)\n",
      "    plot_map(fignum, lats,lons,Opts)\n",
      "    makes a basemap with lats/lons\n",
      "        Windows 10 users, see plot_map\n",
      "    Parameters:\n",
      "    _______________\n",
      "    fignum : matplotlib figure number\n",
      "    lats : array or list of latitudes\n",
      "    lons : array or list of longitudes\n",
      "    Opts : dictionary of plotting options:\n",
      "        Opts.keys=\n",
      "            latmin : minimum latitude for plot\n",
      "            latmax : maximum latitude for plot\n",
      "            lonmin : minimum longitude for plot\n",
      "            lonmax : maximum longitude\n",
      "            lat_0 : central latitude\n",
      "            lon_0 : central longitude\n",
      "            proj : projection [basemap projections, e.g., moll=Mollweide, merc=Mercator, ortho=orthorhombic,\n",
      "                lcc=Lambert Conformal]\n",
      "            sym : matplotlib symbol\n",
      "            symsize : symbol size in pts\n",
      "            edge : markeredgecolor\n",
      "            pltgrid : plot the grid [1,0]\n",
      "            res :  resolution [c,l,i,h] for crude, low, intermediate, high\n",
      "            boundinglat : bounding latitude\n",
      "            sym : matplotlib symbol for plotting\n",
      "            symsize : matplotlib symbol size for plotting\n",
      "            names : list of names for lats/lons (if empty, none will be plotted)\n",
      "            pltgrd : if True, put on grid lines\n",
      "            padlat : padding of latitudes\n",
      "            padlon : padding of longitudes\n",
      "            gridspace : grid line spacing\n",
      "            details : dictionary with keys:\n",
      "                coasts : if True, plot coastlines\n",
      "                rivers : if True, plot rivers\n",
      "                states : if True, plot states\n",
      "                countries : if True, plot countries\n",
      "                ocean : if True, plot ocean\n",
      "                fancy : if True, plot etopo 20 grid\n",
      "                    NB:  etopo must be installed\n",
      "        if Opts keys not set :these are the defaults:\n",
      "           Opts={'latmin':-90,'latmax':90,'lonmin':0,'lonmax':360,'lat_0':0,'lon_0':0,'proj':'moll','sym':'ro,'symsize':5,'pltgrid':1,'res':'c','boundinglat':0.,'padlon':0,'padlat':0,'gridspace':30,'details':all False,'edge':'black'}\n",
      "\n"
     ]
    }
   ],
   "source": [
    "import pmagpy.pmagplotlib as pmagplotlib\n",
    "help(pmagplotlib.plot_map)"
   ]
  },
  {
   "cell_type": "markdown",
   "metadata": {},
   "source": [
    "Here is a little script that will do it.  "
   ]
  },
  {
   "cell_type": "code",
   "execution_count": 131,
   "metadata": {},
   "outputs": [
    {
     "data": {
      "image/png": "[encoded data removed]",
      "text/plain": [
       "<matplotlib.figure.Figure at 0x12789b588>"
      ]
     },
     "metadata": {},
     "output_type": "display_data"
    }
   ],
   "source": [
    "conts=['eur','nam','af','sam','ind','aus','ant'] # set up a list\n",
    "plt.figure(1,(10,10))\n",
    "cnt=0\n",
    "syms=['r.','y.','c.','b.','g.','m.','k.'] # symbols for continents\n",
    "Opts = {'latmin': -90, 'latmax': 90, 'lonmin': 0., 'lonmax': 360.,  \\\n",
    "            'lon_0': 10,'proj': 'hammer', 'sym': 'r.', 'symsize': 3,\\\n",
    "            'pltgrid': 0, 'res': 'c', 'boundinglat': 0.}\n",
    "for cont in conts:\n",
    "    Opts['sym']=syms[cnt] # set line color\n",
    "    cnt+=1 # increment symbol\n",
    "    cont_pts=continent.get_continent(cont).transpose()  # get the continent points\n",
    "    #rotpol=frp.get_pole(cont,10) # get the rotation pole to fixed africa\n",
    "    #rot_pts=pmag.pt_rot(rotpol,cont_pts[0],cont_pts[1])\n",
    "    rot_pts=cont_pts\n",
    "    pmagplotlib.plot_map(1,rot_pts[0],rot_pts[1],Opts)"
   ]
  },
  {
   "cell_type": "markdown",
   "metadata": {},
   "source": [
    "Well, it is okay...  But we really should be using GPlates, which is beautiful and very functional, but for the purpose of learning about these things, this approach is fine."
   ]
  }
 ],
 "metadata": {
  "kernelspec": {
   "display_name": "Python 3",
   "language": "python",
   "name": "python3"
  },
  "language_info": {
   "codemirror_mode": {
    "name": "ipython",
    "version": 3
   },
   "file_extension": ".py",
   "mimetype": "text/x-python",
   "name": "python",
   "nbconvert_exporter": "python",
   "pygments_lexer": "ipython3",
   "version": "3.6.3"
  }
 },
 "nbformat": 4,
 "nbformat_minor": 1
}
